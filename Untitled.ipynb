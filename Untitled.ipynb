{
 "cells": [
  {
   "cell_type": "code",
   "execution_count": 11,
   "id": "cabbe5db",
   "metadata": {},
   "outputs": [],
   "source": [
    "import os\n",
    "import pickle"
   ]
  },
  {
   "cell_type": "code",
   "execution_count": 12,
   "id": "9149f8e4",
   "metadata": {},
   "outputs": [],
   "source": [
    "file = open('kmeans.pkl', \"rb\")\n",
    "kmeans_model = pickle.load(file)"
   ]
  },
  {
   "cell_type": "code",
   "execution_count": 13,
   "id": "5ce863db",
   "metadata": {},
   "outputs": [
    {
     "data": {
      "text/plain": [
       "['.git',\n",
       " '.idea',\n",
       " '.ipynb_checkpoints',\n",
       " 'App.py',\n",
       " 'EDA.ipynb',\n",
       " 'kmeans',\n",
       " 'kmeans.pkl',\n",
       " 'modal for cluster 0',\n",
       " 'modal for cluster 1',\n",
       " 'modal for cluster 2',\n",
       " 'requirements.txt',\n",
       " 'standard scaler for cluster 0',\n",
       " 'standard scaler for cluster 1',\n",
       " 'standard scaler for cluster 2',\n",
       " 'Untitled.ipynb',\n",
       " 'untitled1.py',\n",
       " 'untitled2.py',\n",
       " 'Visibility_data.csv',\n",
       " '__pycache__']"
      ]
     },
     "execution_count": 13,
     "metadata": {},
     "output_type": "execute_result"
    }
   ],
   "source": [
    "os.listdir()"
   ]
  },
  {
   "cell_type": "code",
   "execution_count": null,
   "id": "29ec3d29",
   "metadata": {},
   "outputs": [],
   "source": []
  }
 ],
 "metadata": {
  "kernelspec": {
   "display_name": "Python 3 (ipykernel)",
   "language": "python",
   "name": "python3"
  },
  "language_info": {
   "codemirror_mode": {
    "name": "ipython",
    "version": 3
   },
   "file_extension": ".py",
   "mimetype": "text/x-python",
   "name": "python",
   "nbconvert_exporter": "python",
   "pygments_lexer": "ipython3",
   "version": "3.10.12"
  }
 },
 "nbformat": 4,
 "nbformat_minor": 5
}

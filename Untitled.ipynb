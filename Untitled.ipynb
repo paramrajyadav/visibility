{
 "cells": [
  {
   "cell_type": "code",
   "execution_count": 1,
   "id": "8e660dec",
   "metadata": {},
   "outputs": [],
   "source": [
    "import os\n",
    "import s"
   ]
  },
  {
   "cell_type": "code",
   "execution_count": 2,
   "id": "bae7a112",
   "metadata": {},
   "outputs": [
    {
     "data": {
      "text/plain": [
       "'C:\\\\Users\\\\Lakshita\\\\Desktop\\\\f1'"
      ]
     },
     "execution_count": 2,
     "metadata": {},
     "output_type": "execute_result"
    }
   ],
   "source": [
    "os.getcwd()"
   ]
  },
  {
   "cell_type": "code",
   "execution_count": null,
   "id": "d17c42d1",
   "metadata": {},
   "outputs": [],
   "source": [
    "sc"
   ]
  }
 ],
 "metadata": {
  "kernelspec": {
   "display_name": "Python 3 (ipykernel)",
   "language": "python",
   "name": "python3"
  },
  "language_info": {
   "codemirror_mode": {
    "name": "ipython",
    "version": 3
   },
   "file_extension": ".py",
   "mimetype": "text/x-python",
   "name": "python",
   "nbconvert_exporter": "python",
   "pygments_lexer": "ipython3",
   "version": "3.10.12"
  }
 },
 "nbformat": 4,
 "nbformat_minor": 5
}

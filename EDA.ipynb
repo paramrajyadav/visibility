{
 "cells": [
  {
   "cell_type": "markdown",
   "metadata": {
    "id": "svLIPmPEVpMx"
   },
   "source": [
    "Libraries Import"
   ]
  },
  {
   "cell_type": "code",
   "execution_count": 1,
   "metadata": {},
   "outputs": [
    {
     "name": "stdout",
     "output_type": "stream",
     "text": [
      "Defaulting to user installation because normal site-packages is not writeable\n",
      "Requirement already satisfied: kneed in c:\\users\\lakshita\\appdata\\roaming\\python\\python39\\site-packages (0.8.3)\n",
      "Requirement already satisfied: numpy>=1.14.2 in c:\\programdata\\anaconda3\\lib\\site-packages (from kneed) (1.21.5)\n",
      "Requirement already satisfied: scipy>=1.0.0 in c:\\programdata\\anaconda3\\lib\\site-packages (from kneed) (1.9.1)\n"
     ]
    }
   ],
   "source": [
    "!pip install --upgrade kneed"
   ]
  },
  {
   "cell_type": "code",
   "execution_count": 2,
   "metadata": {
    "id": "6UOUARQaDQEo"
   },
   "outputs": [],
   "source": [
    "import pickle\n",
    "import matplotlib.pyplot as plt\n",
    "import pandas as pd\n",
    "from kneed import KneeLocator\n",
    "from sklearn.datasets import make_blobs\n",
    "from sklearn.cluster import KMeans\n",
    "from sklearn.metrics import silhouette_score\n",
    "from sklearn.preprocessing import StandardScaler\n",
    "from sklearn.ensemble import RandomForestRegressor\n",
    "from sklearn.model_selection import GridSearchCV\n",
    "from sklearn.model_selection import train_test_split\n",
    "import matplotlib as mtp\n",
    "from sklearn.model_selection import GridSearchCV\n",
    "from sklearn.metrics  import r2_score\n",
    "from sklearn.tree import DecisionTreeRegressor\n",
    "import matplotlib.pyplot as plt   \n",
    "import seaborn as sns\n",
    "from xgboost import XGBRegressor\n",
    "import matplotlib.pyplot as plot"
   ]
  },
  {
   "cell_type": "code",
   "execution_count": 3,
   "metadata": {
    "id": "2XfiDE7c88iR"
   },
   "outputs": [],
   "source": [
    "ds=pd.read_csv(\"Visibility_data.csv\")"
   ]
  },
  {
   "cell_type": "markdown",
   "metadata": {
    "id": "mJspNpymU7wC"
   },
   "source": [
    "EDA"
   ]
  },
  {
   "cell_type": "code",
   "execution_count": 4,
   "metadata": {},
   "outputs": [
    {
     "data": {
      "text/html": [
       "<div>\n",
       "<style scoped>\n",
       "    .dataframe tbody tr th:only-of-type {\n",
       "        vertical-align: middle;\n",
       "    }\n",
       "\n",
       "    .dataframe tbody tr th {\n",
       "        vertical-align: top;\n",
       "    }\n",
       "\n",
       "    .dataframe thead th {\n",
       "        text-align: right;\n",
       "    }\n",
       "</style>\n",
       "<table border=\"1\" class=\"dataframe\">\n",
       "  <thead>\n",
       "    <tr style=\"text-align: right;\">\n",
       "      <th></th>\n",
       "      <th>DATE</th>\n",
       "      <th>VISIBILITY</th>\n",
       "      <th>DRYBULBTEMPF</th>\n",
       "      <th>WETBULBTEMPF</th>\n",
       "      <th>DewPointTempF</th>\n",
       "      <th>RelativeHumidity</th>\n",
       "      <th>WindSpeed</th>\n",
       "      <th>WindDirection</th>\n",
       "      <th>StationPressure</th>\n",
       "      <th>SeaLevelPressure</th>\n",
       "      <th>Precip</th>\n",
       "    </tr>\n",
       "  </thead>\n",
       "  <tbody>\n",
       "    <tr>\n",
       "      <th>0</th>\n",
       "      <td>2010-01-01 00:51:00</td>\n",
       "      <td>6.0</td>\n",
       "      <td>33.0</td>\n",
       "      <td>32.0</td>\n",
       "      <td>31.0</td>\n",
       "      <td>92.0</td>\n",
       "      <td>0.0</td>\n",
       "      <td>0.0</td>\n",
       "      <td>29.97</td>\n",
       "      <td>29.99</td>\n",
       "      <td>0.01</td>\n",
       "    </tr>\n",
       "    <tr>\n",
       "      <th>1</th>\n",
       "      <td>2010-01-01 01:51:00</td>\n",
       "      <td>6.0</td>\n",
       "      <td>33.0</td>\n",
       "      <td>33.0</td>\n",
       "      <td>32.0</td>\n",
       "      <td>96.0</td>\n",
       "      <td>0.0</td>\n",
       "      <td>0.0</td>\n",
       "      <td>29.97</td>\n",
       "      <td>29.99</td>\n",
       "      <td>0.02</td>\n",
       "    </tr>\n",
       "    <tr>\n",
       "      <th>2</th>\n",
       "      <td>2010-01-01 02:51:00</td>\n",
       "      <td>5.0</td>\n",
       "      <td>33.0</td>\n",
       "      <td>33.0</td>\n",
       "      <td>32.0</td>\n",
       "      <td>96.0</td>\n",
       "      <td>0.0</td>\n",
       "      <td>0.0</td>\n",
       "      <td>29.97</td>\n",
       "      <td>29.99</td>\n",
       "      <td>0.02</td>\n",
       "    </tr>\n",
       "    <tr>\n",
       "      <th>3</th>\n",
       "      <td>2010-01-01 03:51:00</td>\n",
       "      <td>5.0</td>\n",
       "      <td>33.0</td>\n",
       "      <td>33.0</td>\n",
       "      <td>32.0</td>\n",
       "      <td>96.0</td>\n",
       "      <td>0.0</td>\n",
       "      <td>0.0</td>\n",
       "      <td>29.95</td>\n",
       "      <td>29.97</td>\n",
       "      <td>0.02</td>\n",
       "    </tr>\n",
       "    <tr>\n",
       "      <th>4</th>\n",
       "      <td>2010-01-01 04:51:00</td>\n",
       "      <td>5.0</td>\n",
       "      <td>33.0</td>\n",
       "      <td>32.0</td>\n",
       "      <td>31.0</td>\n",
       "      <td>92.0</td>\n",
       "      <td>0.0</td>\n",
       "      <td>0.0</td>\n",
       "      <td>29.93</td>\n",
       "      <td>29.96</td>\n",
       "      <td>0.02</td>\n",
       "    </tr>\n",
       "    <tr>\n",
       "      <th>...</th>\n",
       "      <td>...</td>\n",
       "      <td>...</td>\n",
       "      <td>...</td>\n",
       "      <td>...</td>\n",
       "      <td>...</td>\n",
       "      <td>...</td>\n",
       "      <td>...</td>\n",
       "      <td>...</td>\n",
       "      <td>...</td>\n",
       "      <td>...</td>\n",
       "      <td>...</td>\n",
       "    </tr>\n",
       "    <tr>\n",
       "      <th>75078</th>\n",
       "      <td>2018-07-27 18:51:00</td>\n",
       "      <td>10.0</td>\n",
       "      <td>76.0</td>\n",
       "      <td>73.0</td>\n",
       "      <td>72.0</td>\n",
       "      <td>88.0</td>\n",
       "      <td>3.0</td>\n",
       "      <td>230.0</td>\n",
       "      <td>30.00</td>\n",
       "      <td>30.02</td>\n",
       "      <td>0.00</td>\n",
       "    </tr>\n",
       "    <tr>\n",
       "      <th>75079</th>\n",
       "      <td>2018-07-27 19:51:00</td>\n",
       "      <td>4.0</td>\n",
       "      <td>69.0</td>\n",
       "      <td>69.0</td>\n",
       "      <td>69.0</td>\n",
       "      <td>100.0</td>\n",
       "      <td>13.0</td>\n",
       "      <td>40.0</td>\n",
       "      <td>29.99</td>\n",
       "      <td>30.01</td>\n",
       "      <td>1.16</td>\n",
       "    </tr>\n",
       "    <tr>\n",
       "      <th>75080</th>\n",
       "      <td>2018-07-27 20:51:00</td>\n",
       "      <td>10.0</td>\n",
       "      <td>71.0</td>\n",
       "      <td>70.0</td>\n",
       "      <td>70.0</td>\n",
       "      <td>96.0</td>\n",
       "      <td>0.0</td>\n",
       "      <td>0.0</td>\n",
       "      <td>30.02</td>\n",
       "      <td>30.04</td>\n",
       "      <td>0.01</td>\n",
       "    </tr>\n",
       "    <tr>\n",
       "      <th>75081</th>\n",
       "      <td>2018-07-27 21:51:00</td>\n",
       "      <td>10.0</td>\n",
       "      <td>72.0</td>\n",
       "      <td>71.0</td>\n",
       "      <td>70.0</td>\n",
       "      <td>94.0</td>\n",
       "      <td>5.0</td>\n",
       "      <td>50.0</td>\n",
       "      <td>30.00</td>\n",
       "      <td>30.02</td>\n",
       "      <td>0.01</td>\n",
       "    </tr>\n",
       "    <tr>\n",
       "      <th>75082</th>\n",
       "      <td>2018-07-27 22:51:00</td>\n",
       "      <td>10.0</td>\n",
       "      <td>72.0</td>\n",
       "      <td>71.0</td>\n",
       "      <td>71.0</td>\n",
       "      <td>97.0</td>\n",
       "      <td>0.0</td>\n",
       "      <td>0.0</td>\n",
       "      <td>30.01</td>\n",
       "      <td>30.03</td>\n",
       "      <td>0.00</td>\n",
       "    </tr>\n",
       "  </tbody>\n",
       "</table>\n",
       "<p>75083 rows × 11 columns</p>\n",
       "</div>"
      ],
      "text/plain": [
       "                      DATE  VISIBILITY  DRYBULBTEMPF  WETBULBTEMPF  \\\n",
       "0      2010-01-01 00:51:00         6.0          33.0          32.0   \n",
       "1      2010-01-01 01:51:00         6.0          33.0          33.0   \n",
       "2      2010-01-01 02:51:00         5.0          33.0          33.0   \n",
       "3      2010-01-01 03:51:00         5.0          33.0          33.0   \n",
       "4      2010-01-01 04:51:00         5.0          33.0          32.0   \n",
       "...                    ...         ...           ...           ...   \n",
       "75078  2018-07-27 18:51:00        10.0          76.0          73.0   \n",
       "75079  2018-07-27 19:51:00         4.0          69.0          69.0   \n",
       "75080  2018-07-27 20:51:00        10.0          71.0          70.0   \n",
       "75081  2018-07-27 21:51:00        10.0          72.0          71.0   \n",
       "75082  2018-07-27 22:51:00        10.0          72.0          71.0   \n",
       "\n",
       "       DewPointTempF  RelativeHumidity  WindSpeed  WindDirection  \\\n",
       "0               31.0              92.0        0.0            0.0   \n",
       "1               32.0              96.0        0.0            0.0   \n",
       "2               32.0              96.0        0.0            0.0   \n",
       "3               32.0              96.0        0.0            0.0   \n",
       "4               31.0              92.0        0.0            0.0   \n",
       "...              ...               ...        ...            ...   \n",
       "75078           72.0              88.0        3.0          230.0   \n",
       "75079           69.0             100.0       13.0           40.0   \n",
       "75080           70.0              96.0        0.0            0.0   \n",
       "75081           70.0              94.0        5.0           50.0   \n",
       "75082           71.0              97.0        0.0            0.0   \n",
       "\n",
       "       StationPressure  SeaLevelPressure  Precip  \n",
       "0                29.97             29.99    0.01  \n",
       "1                29.97             29.99    0.02  \n",
       "2                29.97             29.99    0.02  \n",
       "3                29.95             29.97    0.02  \n",
       "4                29.93             29.96    0.02  \n",
       "...                ...               ...     ...  \n",
       "75078            30.00             30.02    0.00  \n",
       "75079            29.99             30.01    1.16  \n",
       "75080            30.02             30.04    0.01  \n",
       "75081            30.00             30.02    0.01  \n",
       "75082            30.01             30.03    0.00  \n",
       "\n",
       "[75083 rows x 11 columns]"
      ]
     },
     "execution_count": 4,
     "metadata": {},
     "output_type": "execute_result"
    }
   ],
   "source": [
    "ds"
   ]
  },
  {
   "cell_type": "code",
   "execution_count": 5,
   "metadata": {
    "colab": {
     "base_uri": "https://localhost:8080/"
    },
    "id": "nDZ5ufy2UAZg",
    "outputId": "ba363faa-23d4-49ba-f8e4-a55754c4206c"
   },
   "outputs": [
    {
     "name": "stdout",
     "output_type": "stream",
     "text": [
      "<class 'pandas.core.frame.DataFrame'>\n",
      "RangeIndex: 75083 entries, 0 to 75082\n",
      "Data columns (total 11 columns):\n",
      " #   Column            Non-Null Count  Dtype  \n",
      "---  ------            --------------  -----  \n",
      " 0   DATE              75083 non-null  object \n",
      " 1   VISIBILITY        75083 non-null  float64\n",
      " 2   DRYBULBTEMPF      75083 non-null  float64\n",
      " 3   WETBULBTEMPF      75083 non-null  float64\n",
      " 4   DewPointTempF     75083 non-null  float64\n",
      " 5   RelativeHumidity  75083 non-null  float64\n",
      " 6   WindSpeed         75083 non-null  float64\n",
      " 7   WindDirection     75083 non-null  float64\n",
      " 8   StationPressure   75083 non-null  float64\n",
      " 9   SeaLevelPressure  75083 non-null  float64\n",
      " 10  Precip            75083 non-null  float64\n",
      "dtypes: float64(10), object(1)\n",
      "memory usage: 6.3+ MB\n"
     ]
    }
   ],
   "source": [
    "ds.info()"
   ]
  },
  {
   "cell_type": "code",
   "execution_count": 6,
   "metadata": {
    "colab": {
     "base_uri": "https://localhost:8080/"
    },
    "id": "0kdnZCO9TklR",
    "outputId": "a5f49029-97cf-4071-fc40-e5c391967944"
   },
   "outputs": [
    {
     "data": {
      "text/plain": [
       "DATE                0\n",
       "VISIBILITY          0\n",
       "DRYBULBTEMPF        0\n",
       "WETBULBTEMPF        0\n",
       "DewPointTempF       0\n",
       "RelativeHumidity    0\n",
       "WindSpeed           0\n",
       "WindDirection       0\n",
       "StationPressure     0\n",
       "SeaLevelPressure    0\n",
       "Precip              0\n",
       "dtype: int64"
      ]
     },
     "execution_count": 6,
     "metadata": {},
     "output_type": "execute_result"
    }
   ],
   "source": [
    "ds.isnull().sum()"
   ]
  },
  {
   "cell_type": "code",
   "execution_count": 7,
   "metadata": {
    "colab": {
     "base_uri": "https://localhost:8080/",
     "height": 347
    },
    "id": "tb7wpp76TwqN",
    "outputId": "39318de8-e2c1-442b-b516-709d1efdaab5"
   },
   "outputs": [
    {
     "data": {
      "image/png": "[encoded data removed]",
      "text/plain": [
       "<Figure size 640x480 with 2 Axes>"
      ]
     },
     "metadata": {},
     "output_type": "display_data"
    }
   ],
   "source": [
    "df_plot = sns.heatmap(ds.corr(), cmap=\"YlGnBu\", annot=True) "
   ]
  },
  {
   "cell_type": "code",
   "execution_count": 8,
   "metadata": {},
   "outputs": [],
   "source": [
    "ds=ds.drop(['DATE','Precip','WETBULBTEMPF','DewPointTempF','StationPressure'],axis=1)"
   ]
  },
  {
   "cell_type": "code",
   "execution_count": 9,
   "metadata": {
    "id": "YT1klscOzHrC"
   },
   "outputs": [
    {
     "data": {
      "image/png": "[encoded data removed]",
      "text/plain": [
       "<Figure size 2000x2500 with 6 Axes>"
      ]
     },
     "metadata": {},
     "output_type": "display_data"
    }
   ],
   "source": [
    "plt.figure(figsize=(20,25), facecolor='white')\n",
    "plotnumber = 1\n",
    "\n",
    "for column in ds.columns:\n",
    "    ax = plt.subplot(4,3,plotnumber)\n",
    "    sns.histplot(ds[column])\n",
    "    plt.xlabel(column,fontsize=20)\n",
    "        #plt.ylabel('Salary',fontsize=20)\n",
    "    plotnumber+=1\n",
    "plt.tight_layout()"
   ]
  },
  {
   "cell_type": "code",
   "execution_count": 10,
   "metadata": {},
   "outputs": [],
   "source": [
    "X = ds.drop(['VISIBILITY'],axis=1)\n",
    "y = ds['VISIBILITY']"
   ]
  },
  {
   "cell_type": "code",
   "execution_count": 11,
   "metadata": {},
   "outputs": [],
   "source": [
    "import pandas as pd\n",
    "\n",
    "# Assuming you have a pandas DataFrame called 'ds' with numerical columns\n",
    "\n",
    "# Calculate the first quartile (Q1) and third quartile (Q3)\n",
    "Q1 = X.quantile(0.25)\n",
    "Q3 = X.quantile(0.75)\n",
    "\n",
    "# Calculate the IQR (Interquartile Range)\n",
    "IQR = Q3 - Q1\n",
    "\n",
    "# Define a multiplier to adjust the range for outlier detection (e.g., 1.5 or 3)\n",
    "multiplier = 1.5\n",
    "\n",
    "# Create a boolean mask to identify the outliers\n",
    "outlier_mask = (X < (Q1 - multiplier * IQR)) | (X > (Q3 + multiplier * IQR))\n",
    "\n",
    "# Remove the outliers from the DataFrame\n",
    "clean_ds = X[~outlier_mask.any(axis=1)]\n",
    "\n",
    "# The resulting 'clean_ds' DataFrame will have the outliers removed\n",
    "X=clean_ds"
   ]
  },
  {
   "cell_type": "code",
   "execution_count": 12,
   "metadata": {},
   "outputs": [],
   "source": [
    "# scaler = StandardScaler()\n",
    "\n",
    "# X = scaler.fit_transform(X)\n",
    "# X = pd.DataFrame(X,columns=clean_ds.columns)"
   ]
  },
  {
   "cell_type": "code",
   "execution_count": 13,
   "metadata": {},
   "outputs": [
    {
     "data": {
      "text/html": [
       "<div>\n",
       "<style scoped>\n",
       "    .dataframe tbody tr th:only-of-type {\n",
       "        vertical-align: middle;\n",
       "    }\n",
       "\n",
       "    .dataframe tbody tr th {\n",
       "        vertical-align: top;\n",
       "    }\n",
       "\n",
       "    .dataframe thead th {\n",
       "        text-align: right;\n",
       "    }\n",
       "</style>\n",
       "<table border=\"1\" class=\"dataframe\">\n",
       "  <thead>\n",
       "    <tr style=\"text-align: right;\">\n",
       "      <th></th>\n",
       "      <th>DRYBULBTEMPF</th>\n",
       "      <th>RelativeHumidity</th>\n",
       "      <th>WindSpeed</th>\n",
       "      <th>WindDirection</th>\n",
       "      <th>SeaLevelPressure</th>\n",
       "    </tr>\n",
       "  </thead>\n",
       "  <tbody>\n",
       "    <tr>\n",
       "      <th>0</th>\n",
       "      <td>33.0</td>\n",
       "      <td>92.0</td>\n",
       "      <td>0.0</td>\n",
       "      <td>0.0</td>\n",
       "      <td>29.99</td>\n",
       "    </tr>\n",
       "    <tr>\n",
       "      <th>1</th>\n",
       "      <td>33.0</td>\n",
       "      <td>96.0</td>\n",
       "      <td>0.0</td>\n",
       "      <td>0.0</td>\n",
       "      <td>29.99</td>\n",
       "    </tr>\n",
       "    <tr>\n",
       "      <th>2</th>\n",
       "      <td>33.0</td>\n",
       "      <td>96.0</td>\n",
       "      <td>0.0</td>\n",
       "      <td>0.0</td>\n",
       "      <td>29.99</td>\n",
       "    </tr>\n",
       "    <tr>\n",
       "      <th>3</th>\n",
       "      <td>33.0</td>\n",
       "      <td>96.0</td>\n",
       "      <td>0.0</td>\n",
       "      <td>0.0</td>\n",
       "      <td>29.97</td>\n",
       "    </tr>\n",
       "    <tr>\n",
       "      <th>4</th>\n",
       "      <td>33.0</td>\n",
       "      <td>92.0</td>\n",
       "      <td>0.0</td>\n",
       "      <td>0.0</td>\n",
       "      <td>29.96</td>\n",
       "    </tr>\n",
       "    <tr>\n",
       "      <th>...</th>\n",
       "      <td>...</td>\n",
       "      <td>...</td>\n",
       "      <td>...</td>\n",
       "      <td>...</td>\n",
       "      <td>...</td>\n",
       "    </tr>\n",
       "    <tr>\n",
       "      <th>75078</th>\n",
       "      <td>76.0</td>\n",
       "      <td>88.0</td>\n",
       "      <td>3.0</td>\n",
       "      <td>230.0</td>\n",
       "      <td>30.02</td>\n",
       "    </tr>\n",
       "    <tr>\n",
       "      <th>75079</th>\n",
       "      <td>69.0</td>\n",
       "      <td>100.0</td>\n",
       "      <td>13.0</td>\n",
       "      <td>40.0</td>\n",
       "      <td>30.01</td>\n",
       "    </tr>\n",
       "    <tr>\n",
       "      <th>75080</th>\n",
       "      <td>71.0</td>\n",
       "      <td>96.0</td>\n",
       "      <td>0.0</td>\n",
       "      <td>0.0</td>\n",
       "      <td>30.04</td>\n",
       "    </tr>\n",
       "    <tr>\n",
       "      <th>75081</th>\n",
       "      <td>72.0</td>\n",
       "      <td>94.0</td>\n",
       "      <td>5.0</td>\n",
       "      <td>50.0</td>\n",
       "      <td>30.02</td>\n",
       "    </tr>\n",
       "    <tr>\n",
       "      <th>75082</th>\n",
       "      <td>72.0</td>\n",
       "      <td>97.0</td>\n",
       "      <td>0.0</td>\n",
       "      <td>0.0</td>\n",
       "      <td>30.03</td>\n",
       "    </tr>\n",
       "  </tbody>\n",
       "</table>\n",
       "<p>72701 rows × 5 columns</p>\n",
       "</div>"
      ],
      "text/plain": [
       "       DRYBULBTEMPF  RelativeHumidity  WindSpeed  WindDirection  \\\n",
       "0              33.0              92.0        0.0            0.0   \n",
       "1              33.0              96.0        0.0            0.0   \n",
       "2              33.0              96.0        0.0            0.0   \n",
       "3              33.0              96.0        0.0            0.0   \n",
       "4              33.0              92.0        0.0            0.0   \n",
       "...             ...               ...        ...            ...   \n",
       "75078          76.0              88.0        3.0          230.0   \n",
       "75079          69.0             100.0       13.0           40.0   \n",
       "75080          71.0              96.0        0.0            0.0   \n",
       "75081          72.0              94.0        5.0           50.0   \n",
       "75082          72.0              97.0        0.0            0.0   \n",
       "\n",
       "       SeaLevelPressure  \n",
       "0                 29.99  \n",
       "1                 29.99  \n",
       "2                 29.99  \n",
       "3                 29.97  \n",
       "4                 29.96  \n",
       "...                 ...  \n",
       "75078             30.02  \n",
       "75079             30.01  \n",
       "75080             30.04  \n",
       "75081             30.02  \n",
       "75082             30.03  \n",
       "\n",
       "[72701 rows x 5 columns]"
      ]
     },
     "execution_count": 13,
     "metadata": {},
     "output_type": "execute_result"
    }
   ],
   "source": [
    "X"
   ]
  },
  {
   "cell_type": "code",
   "execution_count": 14,
   "metadata": {},
   "outputs": [
    {
     "name": "stderr",
     "output_type": "stream",
     "text": [
      "C:\\ProgramData\\Anaconda3\\lib\\site-packages\\seaborn\\_decorators.py:36: FutureWarning: Pass the following variable as a keyword arg: x. From version 0.12, the only valid positional argument will be `data`, and passing other arguments without an explicit keyword will result in an error or misinterpretation.\n",
      "  warnings.warn(\n",
      "C:\\ProgramData\\Anaconda3\\lib\\site-packages\\seaborn\\_decorators.py:36: FutureWarning: Pass the following variable as a keyword arg: x. From version 0.12, the only valid positional argument will be `data`, and passing other arguments without an explicit keyword will result in an error or misinterpretation.\n",
      "  warnings.warn(\n",
      "C:\\ProgramData\\Anaconda3\\lib\\site-packages\\seaborn\\_decorators.py:36: FutureWarning: Pass the following variable as a keyword arg: x. From version 0.12, the only valid positional argument will be `data`, and passing other arguments without an explicit keyword will result in an error or misinterpretation.\n",
      "  warnings.warn(\n",
      "C:\\ProgramData\\Anaconda3\\lib\\site-packages\\seaborn\\_decorators.py:36: FutureWarning: Pass the following variable as a keyword arg: x. From version 0.12, the only valid positional argument will be `data`, and passing other arguments without an explicit keyword will result in an error or misinterpretation.\n",
      "  warnings.warn(\n",
      "C:\\ProgramData\\Anaconda3\\lib\\site-packages\\seaborn\\_decorators.py:36: FutureWarning: Pass the following variable as a keyword arg: x. From version 0.12, the only valid positional argument will be `data`, and passing other arguments without an explicit keyword will result in an error or misinterpretation.\n",
      "  warnings.warn(\n"
     ]
    },
    {
     "data": {
      "image/png": "[encoded data removed]",
      "text/plain": [
       "<Figure size 1500x1500 with 5 Axes>"
      ]
     },
     "metadata": {},
     "output_type": "display_data"
    }
   ],
   "source": [
    "plot.figure(figsize=(15,15),facecolor='white')\n",
    "plotnumber = 1\n",
    "\n",
    "for column in X.columns:\n",
    "    ax = plot.subplot(4,3,plotnumber)\n",
    "    #data[column]+=1\n",
    "    sns.boxplot((X[column]))\n",
    "    plot.xlabel(column,fontsize=10)\n",
    "    plotnumber+=1\n",
    "plot.show()"
   ]
  },
  {
   "cell_type": "code",
   "execution_count": 15,
   "metadata": {
    "id": "_8XyqLUL1MYJ"
   },
   "outputs": [
    {
     "data": {
      "image/png": "[encoded data removed]",
      "text/plain": [
       "<Figure size 2000x2500 with 5 Axes>"
      ]
     },
     "metadata": {},
     "output_type": "display_data"
    }
   ],
   "source": [
    "scaler = StandardScaler()\n",
    "\n",
    "X_scaled = scaler.fit_transform(X)\n",
    "X_scaled = pd.DataFrame(X_scaled,columns=X.columns)\n",
    "plt.figure(figsize=(20,25), facecolor='white')\n",
    "plotnumber = 1\n",
    "\n",
    "for column in X:\n",
    "    ax = plt.subplot(4,3,plotnumber)\n",
    "    sns.histplot(X[column])\n",
    "    plt.xlabel(column,fontsize=20)\n",
    "        #plt.ylabel('Salary',fontsize=20)\n",
    "    plotnumber+=1\n",
    "plt.tight_layout()"
   ]
  },
  {
   "cell_type": "code",
   "execution_count": null,
   "metadata": {
    "id": "DUC2C0Pv9D2q"
   },
   "outputs": [],
   "source": []
  },
  {
   "cell_type": "code",
   "execution_count": 16,
   "metadata": {},
   "outputs": [
    {
     "data": {
      "text/html": [
       "<div>\n",
       "<style scoped>\n",
       "    .dataframe tbody tr th:only-of-type {\n",
       "        vertical-align: middle;\n",
       "    }\n",
       "\n",
       "    .dataframe tbody tr th {\n",
       "        vertical-align: top;\n",
       "    }\n",
       "\n",
       "    .dataframe thead th {\n",
       "        text-align: right;\n",
       "    }\n",
       "</style>\n",
       "<table border=\"1\" class=\"dataframe\">\n",
       "  <thead>\n",
       "    <tr style=\"text-align: right;\">\n",
       "      <th></th>\n",
       "      <th>VISIBILITY</th>\n",
       "      <th>DRYBULBTEMPF</th>\n",
       "      <th>RelativeHumidity</th>\n",
       "      <th>WindSpeed</th>\n",
       "      <th>WindDirection</th>\n",
       "      <th>SeaLevelPressure</th>\n",
       "    </tr>\n",
       "  </thead>\n",
       "  <tbody>\n",
       "    <tr>\n",
       "      <th>0</th>\n",
       "      <td>6.0</td>\n",
       "      <td>33.0</td>\n",
       "      <td>92.0</td>\n",
       "      <td>0.0</td>\n",
       "      <td>0.0</td>\n",
       "      <td>29.99</td>\n",
       "    </tr>\n",
       "    <tr>\n",
       "      <th>1</th>\n",
       "      <td>6.0</td>\n",
       "      <td>33.0</td>\n",
       "      <td>96.0</td>\n",
       "      <td>0.0</td>\n",
       "      <td>0.0</td>\n",
       "      <td>29.99</td>\n",
       "    </tr>\n",
       "    <tr>\n",
       "      <th>2</th>\n",
       "      <td>5.0</td>\n",
       "      <td>33.0</td>\n",
       "      <td>96.0</td>\n",
       "      <td>0.0</td>\n",
       "      <td>0.0</td>\n",
       "      <td>29.99</td>\n",
       "    </tr>\n",
       "    <tr>\n",
       "      <th>3</th>\n",
       "      <td>5.0</td>\n",
       "      <td>33.0</td>\n",
       "      <td>96.0</td>\n",
       "      <td>0.0</td>\n",
       "      <td>0.0</td>\n",
       "      <td>29.97</td>\n",
       "    </tr>\n",
       "    <tr>\n",
       "      <th>4</th>\n",
       "      <td>5.0</td>\n",
       "      <td>33.0</td>\n",
       "      <td>92.0</td>\n",
       "      <td>0.0</td>\n",
       "      <td>0.0</td>\n",
       "      <td>29.96</td>\n",
       "    </tr>\n",
       "    <tr>\n",
       "      <th>...</th>\n",
       "      <td>...</td>\n",
       "      <td>...</td>\n",
       "      <td>...</td>\n",
       "      <td>...</td>\n",
       "      <td>...</td>\n",
       "      <td>...</td>\n",
       "    </tr>\n",
       "    <tr>\n",
       "      <th>75078</th>\n",
       "      <td>10.0</td>\n",
       "      <td>76.0</td>\n",
       "      <td>88.0</td>\n",
       "      <td>3.0</td>\n",
       "      <td>230.0</td>\n",
       "      <td>30.02</td>\n",
       "    </tr>\n",
       "    <tr>\n",
       "      <th>75079</th>\n",
       "      <td>4.0</td>\n",
       "      <td>69.0</td>\n",
       "      <td>100.0</td>\n",
       "      <td>13.0</td>\n",
       "      <td>40.0</td>\n",
       "      <td>30.01</td>\n",
       "    </tr>\n",
       "    <tr>\n",
       "      <th>75080</th>\n",
       "      <td>10.0</td>\n",
       "      <td>71.0</td>\n",
       "      <td>96.0</td>\n",
       "      <td>0.0</td>\n",
       "      <td>0.0</td>\n",
       "      <td>30.04</td>\n",
       "    </tr>\n",
       "    <tr>\n",
       "      <th>75081</th>\n",
       "      <td>10.0</td>\n",
       "      <td>72.0</td>\n",
       "      <td>94.0</td>\n",
       "      <td>5.0</td>\n",
       "      <td>50.0</td>\n",
       "      <td>30.02</td>\n",
       "    </tr>\n",
       "    <tr>\n",
       "      <th>75082</th>\n",
       "      <td>10.0</td>\n",
       "      <td>72.0</td>\n",
       "      <td>97.0</td>\n",
       "      <td>0.0</td>\n",
       "      <td>0.0</td>\n",
       "      <td>30.03</td>\n",
       "    </tr>\n",
       "  </tbody>\n",
       "</table>\n",
       "<p>75083 rows × 6 columns</p>\n",
       "</div>"
      ],
      "text/plain": [
       "       VISIBILITY  DRYBULBTEMPF  RelativeHumidity  WindSpeed  WindDirection  \\\n",
       "0             6.0          33.0              92.0        0.0            0.0   \n",
       "1             6.0          33.0              96.0        0.0            0.0   \n",
       "2             5.0          33.0              96.0        0.0            0.0   \n",
       "3             5.0          33.0              96.0        0.0            0.0   \n",
       "4             5.0          33.0              92.0        0.0            0.0   \n",
       "...           ...           ...               ...        ...            ...   \n",
       "75078        10.0          76.0              88.0        3.0          230.0   \n",
       "75079         4.0          69.0             100.0       13.0           40.0   \n",
       "75080        10.0          71.0              96.0        0.0            0.0   \n",
       "75081        10.0          72.0              94.0        5.0           50.0   \n",
       "75082        10.0          72.0              97.0        0.0            0.0   \n",
       "\n",
       "       SeaLevelPressure  \n",
       "0                 29.99  \n",
       "1                 29.99  \n",
       "2                 29.99  \n",
       "3                 29.97  \n",
       "4                 29.96  \n",
       "...                 ...  \n",
       "75078             30.02  \n",
       "75079             30.01  \n",
       "75080             30.04  \n",
       "75081             30.02  \n",
       "75082             30.03  \n",
       "\n",
       "[75083 rows x 6 columns]"
      ]
     },
     "execution_count": 16,
     "metadata": {},
     "output_type": "execute_result"
    }
   ],
   "source": [
    "ds"
   ]
  },
  {
   "cell_type": "markdown",
   "metadata": {
    "id": "vInyC210VG1f"
   },
   "source": [
    "Modal training"
   ]
  },
  {
   "cell_type": "code",
   "execution_count": 17,
   "metadata": {
    "id": "qSCCjEyAFg6w"
   },
   "outputs": [],
   "source": [
    "column_names=ds.columns.values"
   ]
  },
  {
   "cell_type": "code",
   "execution_count": 18,
   "metadata": {},
   "outputs": [
    {
     "data": {
      "text/plain": [
       "array(['VISIBILITY', 'DRYBULBTEMPF', 'RelativeHumidity', 'WindSpeed',\n",
       "       'WindDirection', 'SeaLevelPressure'], dtype=object)"
      ]
     },
     "execution_count": 18,
     "metadata": {},
     "output_type": "execute_result"
    }
   ],
   "source": [
    "column_names"
   ]
  },
  {
   "cell_type": "code",
   "execution_count": 19,
   "metadata": {
    "id": "72iKo_PlGwHA"
   },
   "outputs": [],
   "source": [
    "Y=ds[\"VISIBILITY\"]\n",
    "z=Y"
   ]
  },
  {
   "cell_type": "code",
   "execution_count": 20,
   "metadata": {},
   "outputs": [
    {
     "name": "stdout",
     "output_type": "stream",
     "text": [
      "0         6.0\n",
      "1         6.0\n",
      "2         5.0\n",
      "3         5.0\n",
      "4         5.0\n",
      "         ... \n",
      "75078    10.0\n",
      "75079     4.0\n",
      "75080    10.0\n",
      "75081    10.0\n",
      "75082    10.0\n",
      "Name: VISIBILITY, Length: 75083, dtype: float64\n"
     ]
    }
   ],
   "source": [
    "print(z)"
   ]
  },
  {
   "cell_type": "code",
   "execution_count": 21,
   "metadata": {
    "id": "QYkasOeU-5Es"
   },
   "outputs": [],
   "source": [
    "X=ds.drop([\"VISIBILITY\"],axis=1)"
   ]
  },
  {
   "cell_type": "markdown",
   "metadata": {
    "id": "6YoCExF6VZNp"
   },
   "source": [
    "Clustering"
   ]
  },
  {
   "cell_type": "code",
   "execution_count": 22,
   "metadata": {
    "id": "BTZhuUkiAXyY"
   },
   "outputs": [],
   "source": [
    "wcss=[]\n",
    "for i in range (1,11):\n",
    "  kmeans=KMeans(n_clusters=i,init='k-means++',random_state=42) # initializing the KMeans object\n",
    "  kmeans.fit(X) # fitting the data to the KMeans Algorithm\n",
    "  wcss.append(kmeans.inertia_)\n",
    "kn = KneeLocator(range(1, 11), wcss, curve='convex', direction='decreasing')\n",
    "s=kn.knee\n"
   ]
  },
  {
   "cell_type": "code",
   "execution_count": 23,
   "metadata": {},
   "outputs": [
    {
     "name": "stdout",
     "output_type": "stream",
     "text": [
      "C:\\Users\\Lakshita\\Desktop\\Visibility-main/0\n",
      "C:\\Users\\Lakshita\\Desktop\\Visibility-main/1\n",
      "C:\\Users\\Lakshita\\Desktop\\Visibility-main/2\n"
     ]
    }
   ],
   "source": [
    "import os\n",
    "original_path=os.getcwd()\n",
    "for i in range(s):\n",
    "\n",
    "# Define the folder path\n",
    "    folder_path=os.getcwd() + \"/\" + str(i)\n",
    "    print(folder_path)\n",
    "\n",
    "# Check if the folder already exists\n",
    "    if not os.path.exists(folder_path):\n",
    "    # If the folder doesn't exist, create it\n",
    "        os.makedirs(folder_path)\n"
   ]
  },
  {
   "cell_type": "code",
   "execution_count": 24,
   "metadata": {
    "id": "1loyjPmDB8fF"
   },
   "outputs": [],
   "source": [
    "kmeans = KMeans(n_clusters=s, init='k-means++', random_state= 42)  \n",
    "y_predict= kmeans.fit_predict(X)  "
   ]
  },
  {
   "cell_type": "code",
   "execution_count": 25,
   "metadata": {
    "id": "JPqqqbAeCLQv"
   },
   "outputs": [],
   "source": [
    "cluster=y_predict"
   ]
  },
  {
   "cell_type": "code",
   "execution_count": 26,
   "metadata": {},
   "outputs": [
    {
     "name": "stdout",
     "output_type": "stream",
     "text": [
      "(75083,)\n",
      "(75083,)\n"
     ]
    }
   ],
   "source": [
    "print(Y.shape)\n",
    "print(cluster.shape)"
   ]
  },
  {
   "cell_type": "code",
   "execution_count": 27,
   "metadata": {},
   "outputs": [
    {
     "name": "stdout",
     "output_type": "stream",
     "text": [
      "<class 'pandas.core.frame.DataFrame'>\n",
      "<class 'pandas.core.frame.DataFrame'>\n"
     ]
    }
   ],
   "source": [
    "\n",
    "z=pd.DataFrame(z)\n",
    "cluster = pd.DataFrame(cluster)\n",
    "z[\"Cluster\"]=cluster\n",
    "print(type(cluster))\n",
    "print(type(z))"
   ]
  },
  {
   "cell_type": "code",
   "execution_count": 28,
   "metadata": {
    "id": "5-273njBCdsO"
   },
   "outputs": [],
   "source": [
    "X[\"Cluster\"]=cluster"
   ]
  },
  {
   "cell_type": "code",
   "execution_count": 29,
   "metadata": {},
   "outputs": [],
   "source": [
    "column_names=X.columns.values"
   ]
  },
  {
   "cell_type": "code",
   "execution_count": 30,
   "metadata": {},
   "outputs": [
    {
     "data": {
      "text/plain": [
       "array(['DRYBULBTEMPF', 'RelativeHumidity', 'WindSpeed', 'WindDirection',\n",
       "       'SeaLevelPressure', 'Cluster'], dtype=object)"
      ]
     },
     "execution_count": 30,
     "metadata": {},
     "output_type": "execute_result"
    }
   ],
   "source": [
    "column_names"
   ]
  },
  {
   "cell_type": "code",
   "execution_count": null,
   "metadata": {},
   "outputs": [],
   "source": []
  },
  {
   "cell_type": "code",
   "execution_count": 31,
   "metadata": {
    "id": "xIudm2yWO2WQ"
   },
   "outputs": [],
   "source": [
    "def randomforest_():\n",
    "    global clf\n",
    "    clf=RandomForestRegressor()\n",
    "    param_grid = {\"n_estimators\": [10]#, 50, 100]\n",
    "                , \"criterion\": ['squared_error']#, 'absolute_error', 'friedman_mse', 'poisson'],\n",
    "                               ,\"max_depth\": range(2, 3, 1), \"max_features\": ['sqrt']}#,'log2']}\n",
    "    #clf=RandomForestRegressor()\n",
    "    grid = GridSearchCV(estimator=clf, param_grid=param_grid, cv=5,  verbose=3)\n",
    "    grid.fit(X_train, y_train)\n",
    "\n",
    "    #extracting the best parameters\n",
    "    criterion = grid.best_params_['criterion']\n",
    "    max_depth = grid.best_params_['max_depth']\n",
    "    max_features = grid.best_params_['max_features']\n",
    "    n_estimators = grid.best_params_['n_estimators']\n",
    "\n",
    "    #creating a new model with the best parameters\n",
    "\n",
    "    clf = RandomForestRegressor(n_estimators=n_estimators, criterion=criterion,\n",
    "                                    max_depth=max_depth, max_features=max_features)\n",
    "    # training the mew model\n",
    "    clf.fit(X_train, y_train)\n",
    "    predict_clf=clf.predict(X_test)\n",
    "    global randomForest_error\n",
    "    randomForest_error = r2_score(y_test,predict_clf)\n",
    "    return clf"
   ]
  },
  {
   "cell_type": "code",
   "execution_count": 32,
   "metadata": {
    "id": "ghTydfAPpLgb"
   },
   "outputs": [],
   "source": [
    "def xg_boost_():\n",
    "    param_grid_xgboost = {\n",
    "\n",
    "    'learning_rate': [0.5, 0.1]#, 0.01, 0.001],\n",
    "    ,'max_depth': [3, 5]#, 10, 20],\n",
    "    ,'n_estimators': [10, 50]#, 100, 200]\n",
    "    }\n",
    "    xgb1 = XGBRegressor()\n",
    "    # Creating an object of the Grid Search class\n",
    "    grid= GridSearchCV(#XGBRegressor(objective='reg:squarederror'),\n",
    "        xgb1,\n",
    "                       param_grid_xgboost, verbose=3,cv=5)\n",
    "    # finding the best parameters\n",
    "    grid.fit(X_train, y_train)\n",
    "\n",
    "    # extracting the best parameters\n",
    "    learning_rate = grid.best_params_['learning_rate']\n",
    "    max_depth = grid.best_params_['max_depth']\n",
    "    n_estimators = grid.best_params_['n_estimators']\n",
    "    print(learning_rate,max_depth,n_estimators)\n",
    "    print(grid.best_params_)\n",
    "\n",
    "  # creating a new model with the best parameters\n",
    "    xgb =XGBRegressor(\n",
    "    max_depth=max_depth,\n",
    "    learning_rate=learning_rate,\n",
    "    n_estimators=n_estimators,\n",
    "    verbosity=1)#,\n",
    "    #objective='reg:squarederror')\n",
    "  # training the mew model\n",
    "    xgb.fit(X_train, y_train)\n",
    "    predict_xgb=xgb.predict(X_test)\n",
    "    global xgb_error\n",
    "    xgb_error = r2_score(y_test,predict_xgb)\n",
    "    return xgb"
   ]
  },
  {
   "cell_type": "code",
   "execution_count": 33,
   "metadata": {
    "id": "FzJioKb1roaU"
   },
   "outputs": [],
   "source": [
    "def decession_tree_():\n",
    "    param_grid_decisionTree = {'criterion': ['squared_error', 'friedman_mse',],\n",
    "                                'max_depth': [5, 10]#, 15, 20, 25, 30],\n",
    "                                ,'max_features': [None, 'sqrt', 'log2'],\n",
    "                                'max_depth': range(2, 3, 1),\n",
    "                                'min_samples_split': range(2, 3, 1),\n",
    "                             'splitter': ['best', 'random']\n",
    "                              }\n",
    "    dt=DecisionTreeRegressor()\n",
    "    # Creating an object of the Grid Search class\n",
    "    grid = GridSearchCV(dt, param_grid_decisionTree, verbose=3,cv=5)\n",
    "    # finding the best parameters\n",
    "    grid.fit(X_train, y_train)\n",
    "\n",
    "    # extracting the best parameters\n",
    "    criterion = grid.best_params_['criterion']\n",
    "    splitter = grid.best_params_['splitter']\n",
    "    max_features = grid.best_params_['max_features']\n",
    "    max_depth  = grid.best_params_['max_depth']\n",
    "    min_samples_split = grid.best_params_['min_samples_split']\n",
    "\n",
    "    # creating a new model with the best parameters\n",
    "    decisionTreeReg = DecisionTreeRegressor(criterion=criterion,splitter=splitter,max_features=max_features,max_depth=max_depth,min_samples_split=min_samples_split)\n",
    "    # training the mew models\n",
    "    decisionTreeReg.fit(X_train, y_train)\n",
    "    predict_dt=decisionTreeReg.predict(X_test)\n",
    "    global dt_error\n",
    "    dt_error=r2_score(y_test,predict_dt)\n",
    "    return decisionTreeReg"
   ]
  },
  {
   "cell_type": "code",
   "execution_count": 34,
   "metadata": {
    "colab": {
     "base_uri": "https://localhost:8080/",
     "height": 235
    },
    "id": "gtoCxLHIGHkr",
    "outputId": "55818cdb-6fb5-4141-e27b-36fd711b26d7"
   },
   "outputs": [
    {
     "name": "stdout",
     "output_type": "stream",
     "text": [
      "Fitting 5 folds for each of 12 candidates, totalling 60 fits\n",
      "[CV 1/5] END criterion=squared_error, max_depth=2, max_features=None, min_samples_split=2, splitter=best;, score=0.714 total time=   0.0s\n",
      "[CV 2/5] END criterion=squared_error, max_depth=2, max_features=None, min_samples_split=2, splitter=best;, score=0.723 total time=   0.0s\n",
      "[CV 3/5] END criterion=squared_error, max_depth=2, max_features=None, min_samples_split=2, splitter=best;, score=0.725 total time=   0.0s\n",
      "[CV 4/5] END criterion=squared_error, max_depth=2, max_features=None, min_samples_split=2, splitter=best;, score=0.699 total time=   0.0s\n",
      "[CV 5/5] END criterion=squared_error, max_depth=2, max_features=None, min_samples_split=2, splitter=best;, score=0.717 total time=   0.0s\n",
      "[CV 1/5] END criterion=squared_error, max_depth=2, max_features=None, min_samples_split=2, splitter=random;, score=0.552 total time=   0.0s\n",
      "[CV 2/5] END criterion=squared_error, max_depth=2, max_features=None, min_samples_split=2, splitter=random;, score=0.621 total time=   0.0s\n",
      "[CV 3/5] END criterion=squared_error, max_depth=2, max_features=None, min_samples_split=2, splitter=random;, score=0.516 total time=   0.0s\n",
      "[CV 4/5] END criterion=squared_error, max_depth=2, max_features=None, min_samples_split=2, splitter=random;, score=0.580 total time=   0.0s\n",
      "[CV 5/5] END criterion=squared_error, max_depth=2, max_features=None, min_samples_split=2, splitter=random;, score=0.535 total time=   0.0s\n",
      "[CV 1/5] END criterion=squared_error, max_depth=2, max_features=sqrt, min_samples_split=2, splitter=best;, score=0.573 total time=   0.0s\n",
      "[CV 2/5] END criterion=squared_error, max_depth=2, max_features=sqrt, min_samples_split=2, splitter=best;, score=0.697 total time=   0.0s\n",
      "[CV 3/5] END criterion=squared_error, max_depth=2, max_features=sqrt, min_samples_split=2, splitter=best;, score=0.714 total time=   0.0s\n",
      "[CV 4/5] END criterion=squared_error, max_depth=2, max_features=sqrt, min_samples_split=2, splitter=best;, score=0.546 total time=   0.0s\n",
      "[CV 5/5] END criterion=squared_error, max_depth=2, max_features=sqrt, min_samples_split=2, splitter=best;, score=0.667 total time=   0.0s\n",
      "[CV 1/5] END criterion=squared_error, max_depth=2, max_features=sqrt, min_samples_split=2, splitter=random;, score=0.506 total time=   0.0s\n",
      "[CV 2/5] END criterion=squared_error, max_depth=2, max_features=sqrt, min_samples_split=2, splitter=random;, score=0.529 total time=   0.0s\n",
      "[CV 3/5] END criterion=squared_error, max_depth=2, max_features=sqrt, min_samples_split=2, splitter=random;, score=0.517 total time=   0.0s\n",
      "[CV 4/5] END criterion=squared_error, max_depth=2, max_features=sqrt, min_samples_split=2, splitter=random;, score=0.515 total time=   0.0s\n",
      "[CV 5/5] END criterion=squared_error, max_depth=2, max_features=sqrt, min_samples_split=2, splitter=random;, score=0.659 total time=   0.0s\n",
      "[CV 1/5] END criterion=squared_error, max_depth=2, max_features=log2, min_samples_split=2, splitter=best;, score=0.705 total time=   0.0s\n",
      "[CV 2/5] END criterion=squared_error, max_depth=2, max_features=log2, min_samples_split=2, splitter=best;, score=0.524 total time=   0.0s\n",
      "[CV 3/5] END criterion=squared_error, max_depth=2, max_features=log2, min_samples_split=2, splitter=best;, score=0.707 total time=   0.0s\n",
      "[CV 4/5] END criterion=squared_error, max_depth=2, max_features=log2, min_samples_split=2, splitter=best;, score=0.652 total time=   0.0s\n",
      "[CV 5/5] END criterion=squared_error, max_depth=2, max_features=log2, min_samples_split=2, splitter=best;, score=0.545 total time=   0.0s\n",
      "[CV 1/5] END criterion=squared_error, max_depth=2, max_features=log2, min_samples_split=2, splitter=random;, score=0.621 total time=   0.0s\n",
      "[CV 2/5] END criterion=squared_error, max_depth=2, max_features=log2, min_samples_split=2, splitter=random;, score=0.513 total time=   0.0s\n",
      "[CV 3/5] END criterion=squared_error, max_depth=2, max_features=log2, min_samples_split=2, splitter=random;, score=0.531 total time=   0.0s\n",
      "[CV 4/5] END criterion=squared_error, max_depth=2, max_features=log2, min_samples_split=2, splitter=random;, score=0.509 total time=   0.0s\n",
      "[CV 5/5] END criterion=squared_error, max_depth=2, max_features=log2, min_samples_split=2, splitter=random;, score=0.629 total time=   0.0s\n",
      "[CV 1/5] END criterion=friedman_mse, max_depth=2, max_features=None, min_samples_split=2, splitter=best;, score=0.714 total time=   0.0s\n",
      "[CV 2/5] END criterion=friedman_mse, max_depth=2, max_features=None, min_samples_split=2, splitter=best;, score=0.723 total time=   0.0s\n",
      "[CV 3/5] END criterion=friedman_mse, max_depth=2, max_features=None, min_samples_split=2, splitter=best;, score=0.725 total time=   0.0s\n",
      "[CV 4/5] END criterion=friedman_mse, max_depth=2, max_features=None, min_samples_split=2, splitter=best;, score=0.699 total time=   0.0s\n",
      "[CV 5/5] END criterion=friedman_mse, max_depth=2, max_features=None, min_samples_split=2, splitter=best;, score=0.717 total time=   0.0s\n",
      "[CV 1/5] END criterion=friedman_mse, max_depth=2, max_features=None, min_samples_split=2, splitter=random;, score=0.647 total time=   0.0s\n",
      "[CV 2/5] END criterion=friedman_mse, max_depth=2, max_features=None, min_samples_split=2, splitter=random;, score=0.560 total time=   0.0s\n",
      "[CV 3/5] END criterion=friedman_mse, max_depth=2, max_features=None, min_samples_split=2, splitter=random;, score=0.664 total time=   0.0s\n",
      "[CV 4/5] END criterion=friedman_mse, max_depth=2, max_features=None, min_samples_split=2, splitter=random;, score=0.578 total time=   0.0s\n",
      "[CV 5/5] END criterion=friedman_mse, max_depth=2, max_features=None, min_samples_split=2, splitter=random;, score=0.556 total time=   0.0s\n",
      "[CV 1/5] END criterion=friedman_mse, max_depth=2, max_features=sqrt, min_samples_split=2, splitter=best;, score=0.657 total time=   0.0s\n",
      "[CV 2/5] END criterion=friedman_mse, max_depth=2, max_features=sqrt, min_samples_split=2, splitter=best;, score=0.700 total time=   0.0s\n",
      "[CV 3/5] END criterion=friedman_mse, max_depth=2, max_features=sqrt, min_samples_split=2, splitter=best;, score=0.714 total time=   0.0s\n",
      "[CV 4/5] END criterion=friedman_mse, max_depth=2, max_features=sqrt, min_samples_split=2, splitter=best;, score=0.671 total time=   0.0s\n",
      "[CV 5/5] END criterion=friedman_mse, max_depth=2, max_features=sqrt, min_samples_split=2, splitter=best;, score=0.514 total time=   0.0s\n",
      "[CV 1/5] END criterion=friedman_mse, max_depth=2, max_features=sqrt, min_samples_split=2, splitter=random;, score=0.646 total time=   0.0s\n",
      "[CV 2/5] END criterion=friedman_mse, max_depth=2, max_features=sqrt, min_samples_split=2, splitter=random;, score=0.513 total time=   0.0s\n",
      "[CV 3/5] END criterion=friedman_mse, max_depth=2, max_features=sqrt, min_samples_split=2, splitter=random;, score=0.511 total time=   0.0s\n",
      "[CV 4/5] END criterion=friedman_mse, max_depth=2, max_features=sqrt, min_samples_split=2, splitter=random;, score=0.573 total time=   0.0s\n",
      "[CV 5/5] END criterion=friedman_mse, max_depth=2, max_features=sqrt, min_samples_split=2, splitter=random;, score=0.505 total time=   0.0s\n",
      "[CV 1/5] END criterion=friedman_mse, max_depth=2, max_features=log2, min_samples_split=2, splitter=best;, score=0.693 total time=   0.0s\n",
      "[CV 2/5] END criterion=friedman_mse, max_depth=2, max_features=log2, min_samples_split=2, splitter=best;, score=0.549 total time=   0.0s\n",
      "[CV 3/5] END criterion=friedman_mse, max_depth=2, max_features=log2, min_samples_split=2, splitter=best;, score=0.714 total time=   0.0s\n",
      "[CV 4/5] END criterion=friedman_mse, max_depth=2, max_features=log2, min_samples_split=2, splitter=best;, score=0.681 total time=   0.0s\n",
      "[CV 5/5] END criterion=friedman_mse, max_depth=2, max_features=log2, min_samples_split=2, splitter=best;, score=0.699 total time=   0.0s\n",
      "[CV 1/5] END criterion=friedman_mse, max_depth=2, max_features=log2, min_samples_split=2, splitter=random;, score=0.686 total time=   0.0s\n",
      "[CV 2/5] END criterion=friedman_mse, max_depth=2, max_features=log2, min_samples_split=2, splitter=random;, score=0.515 total time=   0.0s\n",
      "[CV 3/5] END criterion=friedman_mse, max_depth=2, max_features=log2, min_samples_split=2, splitter=random;, score=0.697 total time=   0.0s\n",
      "[CV 4/5] END criterion=friedman_mse, max_depth=2, max_features=log2, min_samples_split=2, splitter=random;, score=0.588 total time=   0.0s\n",
      "[CV 5/5] END criterion=friedman_mse, max_depth=2, max_features=log2, min_samples_split=2, splitter=random;, score=0.522 total time=   0.0s\n",
      "Fitting 5 folds for each of 8 candidates, totalling 40 fits\n",
      "[CV 1/5] END learning_rate=0.5, max_depth=3, n_estimators=10;, score=0.262 total time=   0.0s\n"
     ]
    },
    {
     "name": "stdout",
     "output_type": "stream",
     "text": [
      "[CV 2/5] END learning_rate=0.5, max_depth=3, n_estimators=10;, score=0.269 total time=   0.0s\n",
      "[CV 3/5] END learning_rate=0.5, max_depth=3, n_estimators=10;, score=0.259 total time=   0.0s\n",
      "[CV 4/5] END learning_rate=0.5, max_depth=3, n_estimators=10;, score=0.255 total time=   0.0s\n",
      "[CV 5/5] END learning_rate=0.5, max_depth=3, n_estimators=10;, score=0.266 total time=   0.0s\n",
      "[CV 1/5] END learning_rate=0.5, max_depth=3, n_estimators=50;, score=0.266 total time=   0.1s\n",
      "[CV 2/5] END learning_rate=0.5, max_depth=3, n_estimators=50;, score=0.278 total time=   0.1s\n",
      "[CV 3/5] END learning_rate=0.5, max_depth=3, n_estimators=50;, score=0.269 total time=   0.1s\n",
      "[CV 4/5] END learning_rate=0.5, max_depth=3, n_estimators=50;, score=0.259 total time=   0.1s\n",
      "[CV 5/5] END learning_rate=0.5, max_depth=3, n_estimators=50;, score=0.275 total time=   0.1s\n",
      "[CV 1/5] END learning_rate=0.5, max_depth=5, n_estimators=10;, score=0.268 total time=   0.0s\n",
      "[CV 2/5] END learning_rate=0.5, max_depth=5, n_estimators=10;, score=0.278 total time=   0.0s\n",
      "[CV 3/5] END learning_rate=0.5, max_depth=5, n_estimators=10;, score=0.268 total time=   0.0s\n",
      "[CV 4/5] END learning_rate=0.5, max_depth=5, n_estimators=10;, score=0.257 total time=   0.0s\n",
      "[CV 5/5] END learning_rate=0.5, max_depth=5, n_estimators=10;, score=0.281 total time=   0.0s\n",
      "[CV 1/5] END learning_rate=0.5, max_depth=5, n_estimators=50;, score=0.261 total time=   0.2s\n",
      "[CV 2/5] END learning_rate=0.5, max_depth=5, n_estimators=50;, score=0.269 total time=   0.2s\n",
      "[CV 3/5] END learning_rate=0.5, max_depth=5, n_estimators=50;, score=0.266 total time=   0.2s\n",
      "[CV 4/5] END learning_rate=0.5, max_depth=5, n_estimators=50;, score=0.249 total time=   0.2s\n",
      "[CV 5/5] END learning_rate=0.5, max_depth=5, n_estimators=50;, score=0.282 total time=   0.2s\n",
      "[CV 1/5] END learning_rate=0.1, max_depth=3, n_estimators=10;, score=-0.371 total time=   0.0s\n",
      "[CV 2/5] END learning_rate=0.1, max_depth=3, n_estimators=10;, score=-0.323 total time=   0.0s\n",
      "[CV 3/5] END learning_rate=0.1, max_depth=3, n_estimators=10;, score=-0.361 total time=   0.0s\n",
      "[CV 4/5] END learning_rate=0.1, max_depth=3, n_estimators=10;, score=-0.312 total time=   0.0s\n",
      "[CV 5/5] END learning_rate=0.1, max_depth=3, n_estimators=10;, score=-0.318 total time=   0.0s\n",
      "[CV 1/5] END learning_rate=0.1, max_depth=3, n_estimators=50;, score=0.266 total time=   0.1s\n",
      "[CV 2/5] END learning_rate=0.1, max_depth=3, n_estimators=50;, score=0.272 total time=   0.1s\n",
      "[CV 3/5] END learning_rate=0.1, max_depth=3, n_estimators=50;, score=0.265 total time=   0.1s\n",
      "[CV 4/5] END learning_rate=0.1, max_depth=3, n_estimators=50;, score=0.256 total time=   0.1s\n",
      "[CV 5/5] END learning_rate=0.1, max_depth=3, n_estimators=50;, score=0.270 total time=   0.1s\n",
      "[CV 1/5] END learning_rate=0.1, max_depth=5, n_estimators=10;, score=-0.352 total time=   0.0s\n",
      "[CV 2/5] END learning_rate=0.1, max_depth=5, n_estimators=10;, score=-0.303 total time=   0.0s\n",
      "[CV 3/5] END learning_rate=0.1, max_depth=5, n_estimators=10;, score=-0.350 total time=   0.0s\n",
      "[CV 4/5] END learning_rate=0.1, max_depth=5, n_estimators=10;, score=-0.300 total time=   0.0s\n",
      "[CV 5/5] END learning_rate=0.1, max_depth=5, n_estimators=10;, score=-0.298 total time=   0.0s\n",
      "[CV 1/5] END learning_rate=0.1, max_depth=5, n_estimators=50;, score=0.274 total time=   0.2s\n",
      "[CV 2/5] END learning_rate=0.1, max_depth=5, n_estimators=50;, score=0.283 total time=   0.2s\n",
      "[CV 3/5] END learning_rate=0.1, max_depth=5, n_estimators=50;, score=0.270 total time=   0.2s\n",
      "[CV 4/5] END learning_rate=0.1, max_depth=5, n_estimators=50;, score=0.265 total time=   0.2s\n",
      "[CV 5/5] END learning_rate=0.1, max_depth=5, n_estimators=50;, score=0.283 total time=   0.2s\n",
      "0.1 5 50\n",
      "{'learning_rate': 0.1, 'max_depth': 5, 'n_estimators': 50}\n",
      "Fitting 5 folds for each of 1 candidates, totalling 5 fits\n",
      "[CV 1/5] END criterion=squared_error, max_depth=2, max_features=sqrt, n_estimators=10;, score=0.693 total time=   0.0s\n",
      "[CV 2/5] END criterion=squared_error, max_depth=2, max_features=sqrt, n_estimators=10;, score=0.674 total time=   0.0s\n",
      "[CV 3/5] END criterion=squared_error, max_depth=2, max_features=sqrt, n_estimators=10;, score=0.704 total time=   0.0s\n",
      "[CV 4/5] END criterion=squared_error, max_depth=2, max_features=sqrt, n_estimators=10;, score=0.689 total time=   0.0s\n",
      "[CV 5/5] END criterion=squared_error, max_depth=2, max_features=sqrt, n_estimators=10;, score=0.686 total time=   0.0s\n",
      "Fitting 5 folds for each of 12 candidates, totalling 60 fits\n",
      "[CV 1/5] END criterion=squared_error, max_depth=2, max_features=None, min_samples_split=2, splitter=best;, score=0.751 total time=   0.0s\n",
      "[CV 2/5] END criterion=squared_error, max_depth=2, max_features=None, min_samples_split=2, splitter=best;, score=0.719 total time=   0.0s\n",
      "[CV 3/5] END criterion=squared_error, max_depth=2, max_features=None, min_samples_split=2, splitter=best;, score=0.748 total time=   0.0s\n",
      "[CV 4/5] END criterion=squared_error, max_depth=2, max_features=None, min_samples_split=2, splitter=best;, score=0.761 total time=   0.0s\n",
      "[CV 5/5] END criterion=squared_error, max_depth=2, max_features=None, min_samples_split=2, splitter=best;, score=0.724 total time=   0.0s\n",
      "[CV 1/5] END criterion=squared_error, max_depth=2, max_features=None, min_samples_split=2, splitter=random;, score=0.683 total time=   0.0s\n",
      "[CV 2/5] END criterion=squared_error, max_depth=2, max_features=None, min_samples_split=2, splitter=random;, score=0.638 total time=   0.0s\n",
      "[CV 3/5] END criterion=squared_error, max_depth=2, max_features=None, min_samples_split=2, splitter=random;, score=0.541 total time=   0.0s\n",
      "[CV 4/5] END criterion=squared_error, max_depth=2, max_features=None, min_samples_split=2, splitter=random;, score=0.512 total time=   0.0s\n",
      "[CV 5/5] END criterion=squared_error, max_depth=2, max_features=None, min_samples_split=2, splitter=random;, score=0.522 total time=   0.0s\n",
      "[CV 1/5] END criterion=squared_error, max_depth=2, max_features=sqrt, min_samples_split=2, splitter=best;, score=0.538 total time=   0.0s\n",
      "[CV 2/5] END criterion=squared_error, max_depth=2, max_features=sqrt, min_samples_split=2, splitter=best;, score=0.547 total time=   0.0s\n",
      "[CV 3/5] END criterion=squared_error, max_depth=2, max_features=sqrt, min_samples_split=2, splitter=best;, score=0.628 total time=   0.0s\n",
      "[CV 4/5] END criterion=squared_error, max_depth=2, max_features=sqrt, min_samples_split=2, splitter=best;, score=0.745 total time=   0.0s\n",
      "[CV 5/5] END criterion=squared_error, max_depth=2, max_features=sqrt, min_samples_split=2, splitter=best;, score=0.697 total time=   0.0s\n",
      "[CV 1/5] END criterion=squared_error, max_depth=2, max_features=sqrt, min_samples_split=2, splitter=random;, score=0.517 total time=   0.0s\n",
      "[CV 2/5] END criterion=squared_error, max_depth=2, max_features=sqrt, min_samples_split=2, splitter=random;, score=0.533 total time=   0.0s\n",
      "[CV 3/5] END criterion=squared_error, max_depth=2, max_features=sqrt, min_samples_split=2, splitter=random;, score=0.516 total time=   0.0s\n",
      "[CV 4/5] END criterion=squared_error, max_depth=2, max_features=sqrt, min_samples_split=2, splitter=random;, score=0.531 total time=   0.0s\n",
      "[CV 5/5] END criterion=squared_error, max_depth=2, max_features=sqrt, min_samples_split=2, splitter=random;, score=0.508 total time=   0.0s\n",
      "[CV 1/5] END criterion=squared_error, max_depth=2, max_features=log2, min_samples_split=2, splitter=best;, score=0.663 total time=   0.0s\n",
      "[CV 2/5] END criterion=squared_error, max_depth=2, max_features=log2, min_samples_split=2, splitter=best;, score=0.563 total time=   0.0s\n",
      "[CV 3/5] END criterion=squared_error, max_depth=2, max_features=log2, min_samples_split=2, splitter=best;, score=0.693 total time=   0.0s\n",
      "[CV 4/5] END criterion=squared_error, max_depth=2, max_features=log2, min_samples_split=2, splitter=best;, score=0.702 total time=   0.0s\n",
      "[CV 5/5] END criterion=squared_error, max_depth=2, max_features=log2, min_samples_split=2, splitter=best;, score=0.554 total time=   0.0s\n",
      "[CV 1/5] END criterion=squared_error, max_depth=2, max_features=log2, min_samples_split=2, splitter=random;, score=0.524 total time=   0.0s\n",
      "[CV 2/5] END criterion=squared_error, max_depth=2, max_features=log2, min_samples_split=2, splitter=random;, score=0.503 total time=   0.0s\n",
      "[CV 3/5] END criterion=squared_error, max_depth=2, max_features=log2, min_samples_split=2, splitter=random;, score=0.505 total time=   0.0s\n",
      "[CV 4/5] END criterion=squared_error, max_depth=2, max_features=log2, min_samples_split=2, splitter=random;, score=0.532 total time=   0.0s\n",
      "[CV 5/5] END criterion=squared_error, max_depth=2, max_features=log2, min_samples_split=2, splitter=random;, score=0.565 total time=   0.0s\n",
      "[CV 1/5] END criterion=friedman_mse, max_depth=2, max_features=None, min_samples_split=2, splitter=best;, score=0.751 total time=   0.0s\n"
     ]
    },
    {
     "name": "stdout",
     "output_type": "stream",
     "text": [
      "[CV 2/5] END criterion=friedman_mse, max_depth=2, max_features=None, min_samples_split=2, splitter=best;, score=0.719 total time=   0.0s\n",
      "[CV 3/5] END criterion=friedman_mse, max_depth=2, max_features=None, min_samples_split=2, splitter=best;, score=0.748 total time=   0.0s\n",
      "[CV 4/5] END criterion=friedman_mse, max_depth=2, max_features=None, min_samples_split=2, splitter=best;, score=0.761 total time=   0.0s\n",
      "[CV 5/5] END criterion=friedman_mse, max_depth=2, max_features=None, min_samples_split=2, splitter=best;, score=0.724 total time=   0.0s\n",
      "[CV 1/5] END criterion=friedman_mse, max_depth=2, max_features=None, min_samples_split=2, splitter=random;, score=0.606 total time=   0.0s\n",
      "[CV 2/5] END criterion=friedman_mse, max_depth=2, max_features=None, min_samples_split=2, splitter=random;, score=0.632 total time=   0.0s\n",
      "[CV 3/5] END criterion=friedman_mse, max_depth=2, max_features=None, min_samples_split=2, splitter=random;, score=0.543 total time=   0.0s\n",
      "[CV 4/5] END criterion=friedman_mse, max_depth=2, max_features=None, min_samples_split=2, splitter=random;, score=0.623 total time=   0.0s\n",
      "[CV 5/5] END criterion=friedman_mse, max_depth=2, max_features=None, min_samples_split=2, splitter=random;, score=0.537 total time=   0.0s\n",
      "[CV 1/5] END criterion=friedman_mse, max_depth=2, max_features=sqrt, min_samples_split=2, splitter=best;, score=0.668 total time=   0.0s\n",
      "[CV 2/5] END criterion=friedman_mse, max_depth=2, max_features=sqrt, min_samples_split=2, splitter=best;, score=0.563 total time=   0.0s\n",
      "[CV 3/5] END criterion=friedman_mse, max_depth=2, max_features=sqrt, min_samples_split=2, splitter=best;, score=0.536 total time=   0.0s\n",
      "[CV 4/5] END criterion=friedman_mse, max_depth=2, max_features=sqrt, min_samples_split=2, splitter=best;, score=0.566 total time=   0.0s\n",
      "[CV 5/5] END criterion=friedman_mse, max_depth=2, max_features=sqrt, min_samples_split=2, splitter=best;, score=0.717 total time=   0.0s\n",
      "[CV 1/5] END criterion=friedman_mse, max_depth=2, max_features=sqrt, min_samples_split=2, splitter=random;, score=0.505 total time=   0.0s\n",
      "[CV 2/5] END criterion=friedman_mse, max_depth=2, max_features=sqrt, min_samples_split=2, splitter=random;, score=0.520 total time=   0.0s\n",
      "[CV 3/5] END criterion=friedman_mse, max_depth=2, max_features=sqrt, min_samples_split=2, splitter=random;, score=0.516 total time=   0.0s\n",
      "[CV 4/5] END criterion=friedman_mse, max_depth=2, max_features=sqrt, min_samples_split=2, splitter=random;, score=0.683 total time=   0.0s\n",
      "[CV 5/5] END criterion=friedman_mse, max_depth=2, max_features=sqrt, min_samples_split=2, splitter=random;, score=0.513 total time=   0.0s\n",
      "[CV 1/5] END criterion=friedman_mse, max_depth=2, max_features=log2, min_samples_split=2, splitter=best;, score=0.597 total time=   0.0s\n",
      "[CV 2/5] END criterion=friedman_mse, max_depth=2, max_features=log2, min_samples_split=2, splitter=best;, score=0.563 total time=   0.0s\n",
      "[CV 3/5] END criterion=friedman_mse, max_depth=2, max_features=log2, min_samples_split=2, splitter=best;, score=0.692 total time=   0.0s\n",
      "[CV 4/5] END criterion=friedman_mse, max_depth=2, max_features=log2, min_samples_split=2, splitter=best;, score=0.761 total time=   0.0s\n",
      "[CV 5/5] END criterion=friedman_mse, max_depth=2, max_features=log2, min_samples_split=2, splitter=best;, score=0.724 total time=   0.0s\n",
      "[CV 1/5] END criterion=friedman_mse, max_depth=2, max_features=log2, min_samples_split=2, splitter=random;, score=0.507 total time=   0.0s\n",
      "[CV 2/5] END criterion=friedman_mse, max_depth=2, max_features=log2, min_samples_split=2, splitter=random;, score=0.522 total time=   0.0s\n",
      "[CV 3/5] END criterion=friedman_mse, max_depth=2, max_features=log2, min_samples_split=2, splitter=random;, score=0.553 total time=   0.0s\n",
      "[CV 4/5] END criterion=friedman_mse, max_depth=2, max_features=log2, min_samples_split=2, splitter=random;, score=0.503 total time=   0.0s\n",
      "[CV 5/5] END criterion=friedman_mse, max_depth=2, max_features=log2, min_samples_split=2, splitter=random;, score=0.511 total time=   0.0s\n",
      "Fitting 5 folds for each of 8 candidates, totalling 40 fits\n",
      "[CV 1/5] END learning_rate=0.5, max_depth=3, n_estimators=10;, score=0.305 total time=   0.0s\n",
      "[CV 2/5] END learning_rate=0.5, max_depth=3, n_estimators=10;, score=0.286 total time=   0.0s\n",
      "[CV 3/5] END learning_rate=0.5, max_depth=3, n_estimators=10;, score=0.318 total time=   0.0s\n",
      "[CV 4/5] END learning_rate=0.5, max_depth=3, n_estimators=10;, score=0.323 total time=   0.0s\n",
      "[CV 5/5] END learning_rate=0.5, max_depth=3, n_estimators=10;, score=0.303 total time=   0.0s\n",
      "[CV 1/5] END learning_rate=0.5, max_depth=3, n_estimators=50;, score=0.311 total time=   0.1s\n",
      "[CV 2/5] END learning_rate=0.5, max_depth=3, n_estimators=50;, score=0.286 total time=   0.1s\n",
      "[CV 3/5] END learning_rate=0.5, max_depth=3, n_estimators=50;, score=0.320 total time=   0.2s\n",
      "[CV 4/5] END learning_rate=0.5, max_depth=3, n_estimators=50;, score=0.322 total time=   0.1s\n",
      "[CV 5/5] END learning_rate=0.5, max_depth=3, n_estimators=50;, score=0.308 total time=   0.1s\n",
      "[CV 1/5] END learning_rate=0.5, max_depth=5, n_estimators=10;, score=0.313 total time=   0.0s\n",
      "[CV 2/5] END learning_rate=0.5, max_depth=5, n_estimators=10;, score=0.290 total time=   0.0s\n",
      "[CV 3/5] END learning_rate=0.5, max_depth=5, n_estimators=10;, score=0.326 total time=   0.0s\n",
      "[CV 4/5] END learning_rate=0.5, max_depth=5, n_estimators=10;, score=0.333 total time=   0.0s\n",
      "[CV 5/5] END learning_rate=0.5, max_depth=5, n_estimators=10;, score=0.304 total time=   0.0s\n",
      "[CV 1/5] END learning_rate=0.5, max_depth=5, n_estimators=50;, score=0.303 total time=   0.2s\n",
      "[CV 2/5] END learning_rate=0.5, max_depth=5, n_estimators=50;, score=0.284 total time=   0.3s\n",
      "[CV 3/5] END learning_rate=0.5, max_depth=5, n_estimators=50;, score=0.303 total time=   0.3s\n",
      "[CV 4/5] END learning_rate=0.5, max_depth=5, n_estimators=50;, score=0.313 total time=   0.3s\n",
      "[CV 5/5] END learning_rate=0.5, max_depth=5, n_estimators=50;, score=0.300 total time=   0.3s\n",
      "[CV 1/5] END learning_rate=0.1, max_depth=3, n_estimators=10;, score=-2.420 total time=   0.0s\n",
      "[CV 2/5] END learning_rate=0.1, max_depth=3, n_estimators=10;, score=-2.347 total time=   0.0s\n",
      "[CV 3/5] END learning_rate=0.1, max_depth=3, n_estimators=10;, score=-2.515 total time=   0.0s\n",
      "[CV 4/5] END learning_rate=0.1, max_depth=3, n_estimators=10;, score=-2.533 total time=   0.0s\n",
      "[CV 5/5] END learning_rate=0.1, max_depth=3, n_estimators=10;, score=-2.542 total time=   0.0s\n",
      "[CV 1/5] END learning_rate=0.1, max_depth=3, n_estimators=50;, score=0.308 total time=   0.1s\n",
      "[CV 2/5] END learning_rate=0.1, max_depth=3, n_estimators=50;, score=0.290 total time=   0.1s\n",
      "[CV 3/5] END learning_rate=0.1, max_depth=3, n_estimators=50;, score=0.320 total time=   0.1s\n",
      "[CV 4/5] END learning_rate=0.1, max_depth=3, n_estimators=50;, score=0.325 total time=   0.1s\n",
      "[CV 5/5] END learning_rate=0.1, max_depth=3, n_estimators=50;, score=0.308 total time=   0.1s\n",
      "[CV 1/5] END learning_rate=0.1, max_depth=5, n_estimators=10;, score=-2.404 total time=   0.0s\n",
      "[CV 2/5] END learning_rate=0.1, max_depth=5, n_estimators=10;, score=-2.325 total time=   0.0s\n",
      "[CV 3/5] END learning_rate=0.1, max_depth=5, n_estimators=10;, score=-2.507 total time=   0.0s\n",
      "[CV 4/5] END learning_rate=0.1, max_depth=5, n_estimators=10;, score=-2.512 total time=   0.0s\n",
      "[CV 5/5] END learning_rate=0.1, max_depth=5, n_estimators=10;, score=-2.524 total time=   0.0s\n",
      "[CV 1/5] END learning_rate=0.1, max_depth=5, n_estimators=50;, score=0.321 total time=   0.3s\n",
      "[CV 2/5] END learning_rate=0.1, max_depth=5, n_estimators=50;, score=0.303 total time=   0.3s\n",
      "[CV 3/5] END learning_rate=0.1, max_depth=5, n_estimators=50;, score=0.329 total time=   0.3s\n",
      "[CV 4/5] END learning_rate=0.1, max_depth=5, n_estimators=50;, score=0.334 total time=   0.2s\n",
      "[CV 5/5] END learning_rate=0.1, max_depth=5, n_estimators=50;, score=0.316 total time=   0.3s\n",
      "0.1 5 50\n",
      "{'learning_rate': 0.1, 'max_depth': 5, 'n_estimators': 50}\n",
      "Fitting 5 folds for each of 1 candidates, totalling 5 fits\n",
      "[CV 1/5] END criterion=squared_error, max_depth=2, max_features=sqrt, n_estimators=10;, score=0.721 total time=   0.0s\n",
      "[CV 2/5] END criterion=squared_error, max_depth=2, max_features=sqrt, n_estimators=10;, score=0.720 total time=   0.0s\n",
      "[CV 3/5] END criterion=squared_error, max_depth=2, max_features=sqrt, n_estimators=10;, score=0.648 total time=   0.0s\n",
      "[CV 4/5] END criterion=squared_error, max_depth=2, max_features=sqrt, n_estimators=10;, score=0.722 total time=   0.0s\n"
     ]
    },
    {
     "name": "stdout",
     "output_type": "stream",
     "text": [
      "[CV 5/5] END criterion=squared_error, max_depth=2, max_features=sqrt, n_estimators=10;, score=0.701 total time=   0.0s\n",
      "Fitting 5 folds for each of 12 candidates, totalling 60 fits\n",
      "[CV 1/5] END criterion=squared_error, max_depth=2, max_features=None, min_samples_split=2, splitter=best;, score=0.704 total time=   0.0s\n",
      "[CV 2/5] END criterion=squared_error, max_depth=2, max_features=None, min_samples_split=2, splitter=best;, score=0.697 total time=   0.0s\n",
      "[CV 3/5] END criterion=squared_error, max_depth=2, max_features=None, min_samples_split=2, splitter=best;, score=0.706 total time=   0.0s\n",
      "[CV 4/5] END criterion=squared_error, max_depth=2, max_features=None, min_samples_split=2, splitter=best;, score=0.727 total time=   0.0s\n",
      "[CV 5/5] END criterion=squared_error, max_depth=2, max_features=None, min_samples_split=2, splitter=best;, score=0.709 total time=   0.0s\n",
      "[CV 1/5] END criterion=squared_error, max_depth=2, max_features=None, min_samples_split=2, splitter=random;, score=0.686 total time=   0.0s\n",
      "[CV 2/5] END criterion=squared_error, max_depth=2, max_features=None, min_samples_split=2, splitter=random;, score=0.696 total time=   0.0s\n",
      "[CV 3/5] END criterion=squared_error, max_depth=2, max_features=None, min_samples_split=2, splitter=random;, score=0.560 total time=   0.0s\n",
      "[CV 4/5] END criterion=squared_error, max_depth=2, max_features=None, min_samples_split=2, splitter=random;, score=0.521 total time=   0.0s\n",
      "[CV 5/5] END criterion=squared_error, max_depth=2, max_features=None, min_samples_split=2, splitter=random;, score=0.638 total time=   0.0s\n",
      "[CV 1/5] END criterion=squared_error, max_depth=2, max_features=sqrt, min_samples_split=2, splitter=best;, score=0.564 total time=   0.0s\n",
      "[CV 2/5] END criterion=squared_error, max_depth=2, max_features=sqrt, min_samples_split=2, splitter=best;, score=0.561 total time=   0.0s\n",
      "[CV 3/5] END criterion=squared_error, max_depth=2, max_features=sqrt, min_samples_split=2, splitter=best;, score=0.699 total time=   0.0s\n",
      "[CV 4/5] END criterion=squared_error, max_depth=2, max_features=sqrt, min_samples_split=2, splitter=best;, score=0.610 total time=   0.0s\n",
      "[CV 5/5] END criterion=squared_error, max_depth=2, max_features=sqrt, min_samples_split=2, splitter=best;, score=0.541 total time=   0.0s\n",
      "[CV 1/5] END criterion=squared_error, max_depth=2, max_features=sqrt, min_samples_split=2, splitter=random;, score=0.511 total time=   0.0s\n",
      "[CV 2/5] END criterion=squared_error, max_depth=2, max_features=sqrt, min_samples_split=2, splitter=random;, score=0.521 total time=   0.0s\n",
      "[CV 3/5] END criterion=squared_error, max_depth=2, max_features=sqrt, min_samples_split=2, splitter=random;, score=0.602 total time=   0.0s\n",
      "[CV 4/5] END criterion=squared_error, max_depth=2, max_features=sqrt, min_samples_split=2, splitter=random;, score=0.506 total time=   0.0s\n",
      "[CV 5/5] END criterion=squared_error, max_depth=2, max_features=sqrt, min_samples_split=2, splitter=random;, score=0.588 total time=   0.0s\n",
      "[CV 1/5] END criterion=squared_error, max_depth=2, max_features=log2, min_samples_split=2, splitter=best;, score=0.528 total time=   0.0s\n",
      "[CV 2/5] END criterion=squared_error, max_depth=2, max_features=log2, min_samples_split=2, splitter=best;, score=0.526 total time=   0.0s\n",
      "[CV 3/5] END criterion=squared_error, max_depth=2, max_features=log2, min_samples_split=2, splitter=best;, score=0.683 total time=   0.0s\n",
      "[CV 4/5] END criterion=squared_error, max_depth=2, max_features=log2, min_samples_split=2, splitter=best;, score=0.727 total time=   0.0s\n",
      "[CV 5/5] END criterion=squared_error, max_depth=2, max_features=log2, min_samples_split=2, splitter=best;, score=0.530 total time=   0.0s\n",
      "[CV 1/5] END criterion=squared_error, max_depth=2, max_features=log2, min_samples_split=2, splitter=random;, score=0.641 total time=   0.0s\n",
      "[CV 2/5] END criterion=squared_error, max_depth=2, max_features=log2, min_samples_split=2, splitter=random;, score=0.506 total time=   0.0s\n",
      "[CV 3/5] END criterion=squared_error, max_depth=2, max_features=log2, min_samples_split=2, splitter=random;, score=0.508 total time=   0.0s\n",
      "[CV 4/5] END criterion=squared_error, max_depth=2, max_features=log2, min_samples_split=2, splitter=random;, score=0.517 total time=   0.0s\n",
      "[CV 5/5] END criterion=squared_error, max_depth=2, max_features=log2, min_samples_split=2, splitter=random;, score=0.669 total time=   0.0s\n",
      "[CV 1/5] END criterion=friedman_mse, max_depth=2, max_features=None, min_samples_split=2, splitter=best;, score=0.704 total time=   0.0s\n",
      "[CV 2/5] END criterion=friedman_mse, max_depth=2, max_features=None, min_samples_split=2, splitter=best;, score=0.697 total time=   0.0s\n",
      "[CV 3/5] END criterion=friedman_mse, max_depth=2, max_features=None, min_samples_split=2, splitter=best;, score=0.706 total time=   0.0s\n",
      "[CV 4/5] END criterion=friedman_mse, max_depth=2, max_features=None, min_samples_split=2, splitter=best;, score=0.727 total time=   0.0s\n",
      "[CV 5/5] END criterion=friedman_mse, max_depth=2, max_features=None, min_samples_split=2, splitter=best;, score=0.709 total time=   0.0s\n",
      "[CV 1/5] END criterion=friedman_mse, max_depth=2, max_features=None, min_samples_split=2, splitter=random;, score=0.577 total time=   0.0s\n",
      "[CV 2/5] END criterion=friedman_mse, max_depth=2, max_features=None, min_samples_split=2, splitter=random;, score=0.565 total time=   0.0s\n",
      "[CV 3/5] END criterion=friedman_mse, max_depth=2, max_features=None, min_samples_split=2, splitter=random;, score=0.533 total time=   0.0s\n",
      "[CV 4/5] END criterion=friedman_mse, max_depth=2, max_features=None, min_samples_split=2, splitter=random;, score=0.544 total time=   0.0s\n",
      "[CV 5/5] END criterion=friedman_mse, max_depth=2, max_features=None, min_samples_split=2, splitter=random;, score=0.527 total time=   0.0s\n",
      "[CV 1/5] END criterion=friedman_mse, max_depth=2, max_features=sqrt, min_samples_split=2, splitter=best;, score=0.704 total time=   0.0s\n",
      "[CV 2/5] END criterion=friedman_mse, max_depth=2, max_features=sqrt, min_samples_split=2, splitter=best;, score=0.528 total time=   0.0s\n",
      "[CV 3/5] END criterion=friedman_mse, max_depth=2, max_features=sqrt, min_samples_split=2, splitter=best;, score=0.700 total time=   0.0s\n",
      "[CV 4/5] END criterion=friedman_mse, max_depth=2, max_features=sqrt, min_samples_split=2, splitter=best;, score=0.701 total time=   0.0s\n",
      "[CV 5/5] END criterion=friedman_mse, max_depth=2, max_features=sqrt, min_samples_split=2, splitter=best;, score=0.696 total time=   0.0s\n",
      "[CV 1/5] END criterion=friedman_mse, max_depth=2, max_features=sqrt, min_samples_split=2, splitter=random;, score=0.508 total time=   0.0s\n",
      "[CV 2/5] END criterion=friedman_mse, max_depth=2, max_features=sqrt, min_samples_split=2, splitter=random;, score=0.511 total time=   0.0s\n",
      "[CV 3/5] END criterion=friedman_mse, max_depth=2, max_features=sqrt, min_samples_split=2, splitter=random;, score=0.508 total time=   0.0s\n",
      "[CV 4/5] END criterion=friedman_mse, max_depth=2, max_features=sqrt, min_samples_split=2, splitter=random;, score=0.633 total time=   0.0s\n",
      "[CV 5/5] END criterion=friedman_mse, max_depth=2, max_features=sqrt, min_samples_split=2, splitter=random;, score=0.541 total time=   0.0s\n",
      "[CV 1/5] END criterion=friedman_mse, max_depth=2, max_features=log2, min_samples_split=2, splitter=best;, score=0.529 total time=   0.0s\n",
      "[CV 2/5] END criterion=friedman_mse, max_depth=2, max_features=log2, min_samples_split=2, splitter=best;, score=0.697 total time=   0.0s\n",
      "[CV 3/5] END criterion=friedman_mse, max_depth=2, max_features=log2, min_samples_split=2, splitter=best;, score=0.544 total time=   0.0s\n",
      "[CV 4/5] END criterion=friedman_mse, max_depth=2, max_features=log2, min_samples_split=2, splitter=best;, score=0.707 total time=   0.0s\n",
      "[CV 5/5] END criterion=friedman_mse, max_depth=2, max_features=log2, min_samples_split=2, splitter=best;, score=0.643 total time=   0.0s\n",
      "[CV 1/5] END criterion=friedman_mse, max_depth=2, max_features=log2, min_samples_split=2, splitter=random;, score=0.509 total time=   0.0s\n",
      "[CV 2/5] END criterion=friedman_mse, max_depth=2, max_features=log2, min_samples_split=2, splitter=random;, score=0.502 total time=   0.0s\n",
      "[CV 3/5] END criterion=friedman_mse, max_depth=2, max_features=log2, min_samples_split=2, splitter=random;, score=0.520 total time=   0.0s\n",
      "[CV 4/5] END criterion=friedman_mse, max_depth=2, max_features=log2, min_samples_split=2, splitter=random;, score=0.540 total time=   0.0s\n",
      "[CV 5/5] END criterion=friedman_mse, max_depth=2, max_features=log2, min_samples_split=2, splitter=random;, score=0.560 total time=   0.0s\n",
      "Fitting 5 folds for each of 8 candidates, totalling 40 fits\n",
      "[CV 1/5] END learning_rate=0.5, max_depth=3, n_estimators=10;, score=0.265 total time=   0.0s\n"
     ]
    },
    {
     "name": "stdout",
     "output_type": "stream",
     "text": [
      "[CV 2/5] END learning_rate=0.5, max_depth=3, n_estimators=10;, score=0.238 total time=   0.0s\n",
      "[CV 3/5] END learning_rate=0.5, max_depth=3, n_estimators=10;, score=0.266 total time=   0.0s\n",
      "[CV 4/5] END learning_rate=0.5, max_depth=3, n_estimators=10;, score=0.279 total time=   0.0s\n",
      "[CV 5/5] END learning_rate=0.5, max_depth=3, n_estimators=10;, score=0.251 total time=   0.0s\n",
      "[CV 1/5] END learning_rate=0.5, max_depth=3, n_estimators=50;, score=0.273 total time=   0.2s\n",
      "[CV 2/5] END learning_rate=0.5, max_depth=3, n_estimators=50;, score=0.243 total time=   0.2s\n",
      "[CV 3/5] END learning_rate=0.5, max_depth=3, n_estimators=50;, score=0.272 total time=   0.1s\n",
      "[CV 4/5] END learning_rate=0.5, max_depth=3, n_estimators=50;, score=0.280 total time=   0.2s\n",
      "[CV 5/5] END learning_rate=0.5, max_depth=3, n_estimators=50;, score=0.254 total time=   0.1s\n",
      "[CV 1/5] END learning_rate=0.5, max_depth=5, n_estimators=10;, score=0.269 total time=   0.0s\n",
      "[CV 2/5] END learning_rate=0.5, max_depth=5, n_estimators=10;, score=0.243 total time=   0.0s\n",
      "[CV 3/5] END learning_rate=0.5, max_depth=5, n_estimators=10;, score=0.270 total time=   0.0s\n",
      "[CV 4/5] END learning_rate=0.5, max_depth=5, n_estimators=10;, score=0.284 total time=   0.0s\n",
      "[CV 5/5] END learning_rate=0.5, max_depth=5, n_estimators=10;, score=0.261 total time=   0.0s\n",
      "[CV 1/5] END learning_rate=0.5, max_depth=5, n_estimators=50;, score=0.269 total time=   0.3s\n",
      "[CV 2/5] END learning_rate=0.5, max_depth=5, n_estimators=50;, score=0.245 total time=   0.3s\n",
      "[CV 3/5] END learning_rate=0.5, max_depth=5, n_estimators=50;, score=0.270 total time=   0.3s\n",
      "[CV 4/5] END learning_rate=0.5, max_depth=5, n_estimators=50;, score=0.285 total time=   0.4s\n",
      "[CV 5/5] END learning_rate=0.5, max_depth=5, n_estimators=50;, score=0.258 total time=   0.3s\n",
      "[CV 1/5] END learning_rate=0.1, max_depth=3, n_estimators=10;, score=-0.655 total time=   0.0s\n",
      "[CV 2/5] END learning_rate=0.1, max_depth=3, n_estimators=10;, score=-0.694 total time=   0.0s\n",
      "[CV 3/5] END learning_rate=0.1, max_depth=3, n_estimators=10;, score=-0.528 total time=   0.0s\n",
      "[CV 4/5] END learning_rate=0.1, max_depth=3, n_estimators=10;, score=-0.507 total time=   0.0s\n",
      "[CV 5/5] END learning_rate=0.1, max_depth=3, n_estimators=10;, score=-0.617 total time=   0.0s\n",
      "[CV 1/5] END learning_rate=0.1, max_depth=3, n_estimators=50;, score=0.267 total time=   0.2s\n",
      "[CV 2/5] END learning_rate=0.1, max_depth=3, n_estimators=50;, score=0.240 total time=   0.2s\n",
      "[CV 3/5] END learning_rate=0.1, max_depth=3, n_estimators=50;, score=0.268 total time=   0.2s\n",
      "[CV 4/5] END learning_rate=0.1, max_depth=3, n_estimators=50;, score=0.280 total time=   0.1s\n",
      "[CV 5/5] END learning_rate=0.1, max_depth=3, n_estimators=50;, score=0.254 total time=   0.1s\n",
      "[CV 1/5] END learning_rate=0.1, max_depth=5, n_estimators=10;, score=-0.639 total time=   0.0s\n",
      "[CV 2/5] END learning_rate=0.1, max_depth=5, n_estimators=10;, score=-0.683 total time=   0.0s\n",
      "[CV 3/5] END learning_rate=0.1, max_depth=5, n_estimators=10;, score=-0.512 total time=   0.0s\n",
      "[CV 4/5] END learning_rate=0.1, max_depth=5, n_estimators=10;, score=-0.495 total time=   0.0s\n",
      "[CV 5/5] END learning_rate=0.1, max_depth=5, n_estimators=10;, score=-0.605 total time=   0.0s\n",
      "[CV 1/5] END learning_rate=0.1, max_depth=5, n_estimators=50;, score=0.277 total time=   0.3s\n",
      "[CV 2/5] END learning_rate=0.1, max_depth=5, n_estimators=50;, score=0.251 total time=   0.3s\n",
      "[CV 3/5] END learning_rate=0.1, max_depth=5, n_estimators=50;, score=0.277 total time=   0.3s\n",
      "[CV 4/5] END learning_rate=0.1, max_depth=5, n_estimators=50;, score=0.287 total time=   0.3s\n",
      "[CV 5/5] END learning_rate=0.1, max_depth=5, n_estimators=50;, score=0.263 total time=   0.4s\n",
      "0.1 5 50\n",
      "{'learning_rate': 0.1, 'max_depth': 5, 'n_estimators': 50}\n",
      "Fitting 5 folds for each of 1 candidates, totalling 5 fits\n",
      "[CV 1/5] END criterion=squared_error, max_depth=2, max_features=sqrt, n_estimators=10;, score=0.713 total time=   0.0s\n",
      "[CV 2/5] END criterion=squared_error, max_depth=2, max_features=sqrt, n_estimators=10;, score=0.697 total time=   0.0s\n",
      "[CV 3/5] END criterion=squared_error, max_depth=2, max_features=sqrt, n_estimators=10;, score=0.716 total time=   0.0s\n",
      "[CV 4/5] END criterion=squared_error, max_depth=2, max_features=sqrt, n_estimators=10;, score=0.692 total time=   0.0s\n",
      "[CV 5/5] END criterion=squared_error, max_depth=2, max_features=sqrt, n_estimators=10;, score=0.675 total time=   0.0s\n"
     ]
    }
   ],
   "source": [
    "model={}\n",
    "error=[]\n",
    "list_of_clusters=X['Cluster'].unique()    \n",
    "for i in list_of_clusters:\n",
    "\n",
    "    cluster_data=X[X['Cluster']==i]\n",
    "    cluster_data=cluster_data.drop(\"Cluster\",axis=1)\n",
    "    cluster_data_2=z[z['Cluster']==i]\n",
    "    cluster_data2=cluster_data_2.drop(\"Cluster\",axis=1)# filter the data for one cluster\n",
    "    X_train, X_test, y_train, y_test = train_test_split(cluster_data, cluster_data_2, test_size=0.2, random_state=42)\n",
    "\n",
    "    #scaler = StandardScaler()\n",
    "#     X_train = scaler.fit_transform(X_train)\n",
    "#     X_test = scaler.transform(X_test)\n",
    "    dtdt=decession_tree_()\n",
    "    xgbxgb=xg_boost_()\n",
    "    rfrf=randomforest_()\n",
    "    error.append(randomForest_error)\n",
    "\n",
    "    error.append(xgb_error)\n",
    "    error.append(dt_error)\n",
    "\n",
    "\n",
    "\n",
    "    if randomForest_error < xgb_error and randomForest_error < dt_error:\n",
    "        model[i]=dtdt\n",
    "        pickle.dump(dtdt, open(str(i)+\"/\"+'model_.pkl', 'wb'))\n",
    "\n",
    "    elif xgb_error < dt_error and xgb_error < randomForest_error:\n",
    "        model[i]=xgbxgb\n",
    "\n",
    "\n",
    "\n",
    "        pickle.dump(xgbxgb, open(str(i)+\"/\"+'model_.pkl', 'wb'))\n",
    "    else:\n",
    "        model[i]=dtdt\n",
    "\n",
    "        pickle.dump(dtdt, open(str(i)+\"/\"+'model_.pkl', 'wb'))\n",
    "\n"
   ]
  },
  {
   "cell_type": "code",
   "execution_count": 35,
   "metadata": {
    "id": "1o25FQj23l2f"
   },
   "outputs": [
    {
     "data": {
      "text/plain": [
       "{1: XGBRegressor(base_score=None, booster=None, callbacks=None,\n",
       "              colsample_bylevel=None, colsample_bynode=None,\n",
       "              colsample_bytree=None, early_stopping_rounds=None,\n",
       "              enable_categorical=False, eval_metric=None, feature_types=None,\n",
       "              gamma=None, gpu_id=None, grow_policy=None, importance_type=None,\n",
       "              interaction_constraints=None, learning_rate=0.1, max_bin=None,\n",
       "              max_cat_threshold=None, max_cat_to_onehot=None,\n",
       "              max_delta_step=None, max_depth=5, max_leaves=None,\n",
       "              min_child_weight=None, missing=nan, monotone_constraints=None,\n",
       "              n_estimators=50, n_jobs=None, num_parallel_tree=None,\n",
       "              predictor=None, random_state=None, ...),\n",
       " 0: XGBRegressor(base_score=None, booster=None, callbacks=None,\n",
       "              colsample_bylevel=None, colsample_bynode=None,\n",
       "              colsample_bytree=None, early_stopping_rounds=None,\n",
       "              enable_categorical=False, eval_metric=None, feature_types=None,\n",
       "              gamma=None, gpu_id=None, grow_policy=None, importance_type=None,\n",
       "              interaction_constraints=None, learning_rate=0.1, max_bin=None,\n",
       "              max_cat_threshold=None, max_cat_to_onehot=None,\n",
       "              max_delta_step=None, max_depth=5, max_leaves=None,\n",
       "              min_child_weight=None, missing=nan, monotone_constraints=None,\n",
       "              n_estimators=50, n_jobs=None, num_parallel_tree=None,\n",
       "              predictor=None, random_state=None, ...),\n",
       " 2: XGBRegressor(base_score=None, booster=None, callbacks=None,\n",
       "              colsample_bylevel=None, colsample_bynode=None,\n",
       "              colsample_bytree=None, early_stopping_rounds=None,\n",
       "              enable_categorical=False, eval_metric=None, feature_types=None,\n",
       "              gamma=None, gpu_id=None, grow_policy=None, importance_type=None,\n",
       "              interaction_constraints=None, learning_rate=0.1, max_bin=None,\n",
       "              max_cat_threshold=None, max_cat_to_onehot=None,\n",
       "              max_delta_step=None, max_depth=5, max_leaves=None,\n",
       "              min_child_weight=None, missing=nan, monotone_constraints=None,\n",
       "              n_estimators=50, n_jobs=None, num_parallel_tree=None,\n",
       "              predictor=None, random_state=None, ...)}"
      ]
     },
     "execution_count": 35,
     "metadata": {},
     "output_type": "execute_result"
    }
   ],
   "source": [
    "model"
   ]
  },
  {
   "cell_type": "code",
   "execution_count": 36,
   "metadata": {},
   "outputs": [
    {
     "data": {
      "text/plain": [
       "[0.7000685147952161,\n",
       " 0.2722596281548034,\n",
       " 0.7145305323172175,\n",
       " 0.69971978245399,\n",
       " 0.32966261744257574,\n",
       " 0.7506482307622856,\n",
       " 0.6904563498032183,\n",
       " 0.28391484500266073,\n",
       " 0.7119606140108568]"
      ]
     },
     "execution_count": 36,
     "metadata": {},
     "output_type": "execute_result"
    }
   ],
   "source": [
    "error"
   ]
  },
  {
   "cell_type": "markdown",
   "metadata": {},
   "source": [
    "Prediction"
   ]
  },
  {
   "cell_type": "code",
   "execution_count": 37,
   "metadata": {},
   "outputs": [],
   "source": [
    "ds_test=pd.read_csv(\"Good_Raw_Data.csv\")"
   ]
  },
  {
   "cell_type": "code",
   "execution_count": 38,
   "metadata": {},
   "outputs": [],
   "source": [
    "ds_test=ds_test.drop(['DATE','Precip','WETBULBTEMPF','DewPointTempF','StationPressure'],axis=1)"
   ]
  },
  {
   "cell_type": "code",
   "execution_count": 39,
   "metadata": {},
   "outputs": [
    {
     "data": {
      "text/html": [
       "<div>\n",
       "<style scoped>\n",
       "    .dataframe tbody tr th:only-of-type {\n",
       "        vertical-align: middle;\n",
       "    }\n",
       "\n",
       "    .dataframe tbody tr th {\n",
       "        vertical-align: top;\n",
       "    }\n",
       "\n",
       "    .dataframe thead th {\n",
       "        text-align: right;\n",
       "    }\n",
       "</style>\n",
       "<table border=\"1\" class=\"dataframe\">\n",
       "  <thead>\n",
       "    <tr style=\"text-align: right;\">\n",
       "      <th></th>\n",
       "      <th>DRYBULBTEMPF</th>\n",
       "      <th>RelativeHumidity</th>\n",
       "      <th>WindSpeed</th>\n",
       "      <th>WindDirection</th>\n",
       "      <th>SeaLevelPressure</th>\n",
       "    </tr>\n",
       "  </thead>\n",
       "  <tbody>\n",
       "    <tr>\n",
       "      <th>0</th>\n",
       "      <td>58.0</td>\n",
       "      <td>70.0</td>\n",
       "      <td>31.0</td>\n",
       "      <td>180.0</td>\n",
       "      <td>29.90</td>\n",
       "    </tr>\n",
       "    <tr>\n",
       "      <th>1</th>\n",
       "      <td>56.0</td>\n",
       "      <td>77.0</td>\n",
       "      <td>29.0</td>\n",
       "      <td>180.0</td>\n",
       "      <td>29.90</td>\n",
       "    </tr>\n",
       "    <tr>\n",
       "      <th>2</th>\n",
       "      <td>55.0</td>\n",
       "      <td>80.0</td>\n",
       "      <td>25.0</td>\n",
       "      <td>180.0</td>\n",
       "      <td>29.91</td>\n",
       "    </tr>\n",
       "    <tr>\n",
       "      <th>3</th>\n",
       "      <td>54.0</td>\n",
       "      <td>87.0</td>\n",
       "      <td>24.0</td>\n",
       "      <td>180.0</td>\n",
       "      <td>29.92</td>\n",
       "    </tr>\n",
       "    <tr>\n",
       "      <th>4</th>\n",
       "      <td>54.0</td>\n",
       "      <td>87.0</td>\n",
       "      <td>23.0</td>\n",
       "      <td>170.0</td>\n",
       "      <td>29.91</td>\n",
       "    </tr>\n",
       "    <tr>\n",
       "      <th>...</th>\n",
       "      <td>...</td>\n",
       "      <td>...</td>\n",
       "      <td>...</td>\n",
       "      <td>...</td>\n",
       "      <td>...</td>\n",
       "    </tr>\n",
       "    <tr>\n",
       "      <th>12509</th>\n",
       "      <td>47.0</td>\n",
       "      <td>71.0</td>\n",
       "      <td>6.0</td>\n",
       "      <td>60.0</td>\n",
       "      <td>30.27</td>\n",
       "    </tr>\n",
       "    <tr>\n",
       "      <th>12510</th>\n",
       "      <td>47.0</td>\n",
       "      <td>74.0</td>\n",
       "      <td>6.0</td>\n",
       "      <td>70.0</td>\n",
       "      <td>30.28</td>\n",
       "    </tr>\n",
       "    <tr>\n",
       "      <th>12511</th>\n",
       "      <td>47.0</td>\n",
       "      <td>74.0</td>\n",
       "      <td>7.0</td>\n",
       "      <td>50.0</td>\n",
       "      <td>30.28</td>\n",
       "    </tr>\n",
       "    <tr>\n",
       "      <th>12512</th>\n",
       "      <td>47.0</td>\n",
       "      <td>74.0</td>\n",
       "      <td>7.0</td>\n",
       "      <td>50.0</td>\n",
       "      <td>30.28</td>\n",
       "    </tr>\n",
       "    <tr>\n",
       "      <th>12513</th>\n",
       "      <td>45.0</td>\n",
       "      <td>77.0</td>\n",
       "      <td>6.0</td>\n",
       "      <td>60.0</td>\n",
       "      <td>30.27</td>\n",
       "    </tr>\n",
       "  </tbody>\n",
       "</table>\n",
       "<p>12514 rows × 5 columns</p>\n",
       "</div>"
      ],
      "text/plain": [
       "       DRYBULBTEMPF  RelativeHumidity  WindSpeed  WindDirection  \\\n",
       "0              58.0              70.0       31.0          180.0   \n",
       "1              56.0              77.0       29.0          180.0   \n",
       "2              55.0              80.0       25.0          180.0   \n",
       "3              54.0              87.0       24.0          180.0   \n",
       "4              54.0              87.0       23.0          170.0   \n",
       "...             ...               ...        ...            ...   \n",
       "12509          47.0              71.0        6.0           60.0   \n",
       "12510          47.0              74.0        6.0           70.0   \n",
       "12511          47.0              74.0        7.0           50.0   \n",
       "12512          47.0              74.0        7.0           50.0   \n",
       "12513          45.0              77.0        6.0           60.0   \n",
       "\n",
       "       SeaLevelPressure  \n",
       "0                 29.90  \n",
       "1                 29.90  \n",
       "2                 29.91  \n",
       "3                 29.92  \n",
       "4                 29.91  \n",
       "...                 ...  \n",
       "12509             30.27  \n",
       "12510             30.28  \n",
       "12511             30.28  \n",
       "12512             30.28  \n",
       "12513             30.27  \n",
       "\n",
       "[12514 rows x 5 columns]"
      ]
     },
     "execution_count": 39,
     "metadata": {},
     "output_type": "execute_result"
    }
   ],
   "source": [
    "ds_test"
   ]
  },
  {
   "cell_type": "code",
   "execution_count": 40,
   "metadata": {},
   "outputs": [],
   "source": [
    "y_test_predict= kmeans.predict(ds_test)  "
   ]
  },
  {
   "cell_type": "code",
   "execution_count": 41,
   "metadata": {},
   "outputs": [
    {
     "data": {
      "text/plain": [
       "array([2, 2, 2, ..., 1, 1, 1])"
      ]
     },
     "execution_count": 41,
     "metadata": {},
     "output_type": "execute_result"
    }
   ],
   "source": [
    "y_test_predict"
   ]
  },
  {
   "cell_type": "code",
   "execution_count": 42,
   "metadata": {},
   "outputs": [],
   "source": [
    "cluster=y_test_predict"
   ]
  },
  {
   "cell_type": "code",
   "execution_count": 43,
   "metadata": {},
   "outputs": [],
   "source": [
    "ds_test[\"Cluster\"]=cluster"
   ]
  },
  {
   "cell_type": "code",
   "execution_count": 44,
   "metadata": {},
   "outputs": [
    {
     "data": {
      "text/html": [
       "<div>\n",
       "<style scoped>\n",
       "    .dataframe tbody tr th:only-of-type {\n",
       "        vertical-align: middle;\n",
       "    }\n",
       "\n",
       "    .dataframe tbody tr th {\n",
       "        vertical-align: top;\n",
       "    }\n",
       "\n",
       "    .dataframe thead th {\n",
       "        text-align: right;\n",
       "    }\n",
       "</style>\n",
       "<table border=\"1\" class=\"dataframe\">\n",
       "  <thead>\n",
       "    <tr style=\"text-align: right;\">\n",
       "      <th></th>\n",
       "      <th>DRYBULBTEMPF</th>\n",
       "      <th>RelativeHumidity</th>\n",
       "      <th>WindSpeed</th>\n",
       "      <th>WindDirection</th>\n",
       "      <th>SeaLevelPressure</th>\n",
       "      <th>Cluster</th>\n",
       "    </tr>\n",
       "  </thead>\n",
       "  <tbody>\n",
       "    <tr>\n",
       "      <th>0</th>\n",
       "      <td>58.0</td>\n",
       "      <td>70.0</td>\n",
       "      <td>31.0</td>\n",
       "      <td>180.0</td>\n",
       "      <td>29.90</td>\n",
       "      <td>2</td>\n",
       "    </tr>\n",
       "    <tr>\n",
       "      <th>1</th>\n",
       "      <td>56.0</td>\n",
       "      <td>77.0</td>\n",
       "      <td>29.0</td>\n",
       "      <td>180.0</td>\n",
       "      <td>29.90</td>\n",
       "      <td>2</td>\n",
       "    </tr>\n",
       "    <tr>\n",
       "      <th>2</th>\n",
       "      <td>55.0</td>\n",
       "      <td>80.0</td>\n",
       "      <td>25.0</td>\n",
       "      <td>180.0</td>\n",
       "      <td>29.91</td>\n",
       "      <td>2</td>\n",
       "    </tr>\n",
       "    <tr>\n",
       "      <th>3</th>\n",
       "      <td>54.0</td>\n",
       "      <td>87.0</td>\n",
       "      <td>24.0</td>\n",
       "      <td>180.0</td>\n",
       "      <td>29.92</td>\n",
       "      <td>2</td>\n",
       "    </tr>\n",
       "    <tr>\n",
       "      <th>4</th>\n",
       "      <td>54.0</td>\n",
       "      <td>87.0</td>\n",
       "      <td>23.0</td>\n",
       "      <td>170.0</td>\n",
       "      <td>29.91</td>\n",
       "      <td>2</td>\n",
       "    </tr>\n",
       "    <tr>\n",
       "      <th>...</th>\n",
       "      <td>...</td>\n",
       "      <td>...</td>\n",
       "      <td>...</td>\n",
       "      <td>...</td>\n",
       "      <td>...</td>\n",
       "      <td>...</td>\n",
       "    </tr>\n",
       "    <tr>\n",
       "      <th>12509</th>\n",
       "      <td>47.0</td>\n",
       "      <td>71.0</td>\n",
       "      <td>6.0</td>\n",
       "      <td>60.0</td>\n",
       "      <td>30.27</td>\n",
       "      <td>1</td>\n",
       "    </tr>\n",
       "    <tr>\n",
       "      <th>12510</th>\n",
       "      <td>47.0</td>\n",
       "      <td>74.0</td>\n",
       "      <td>6.0</td>\n",
       "      <td>70.0</td>\n",
       "      <td>30.28</td>\n",
       "      <td>1</td>\n",
       "    </tr>\n",
       "    <tr>\n",
       "      <th>12511</th>\n",
       "      <td>47.0</td>\n",
       "      <td>74.0</td>\n",
       "      <td>7.0</td>\n",
       "      <td>50.0</td>\n",
       "      <td>30.28</td>\n",
       "      <td>1</td>\n",
       "    </tr>\n",
       "    <tr>\n",
       "      <th>12512</th>\n",
       "      <td>47.0</td>\n",
       "      <td>74.0</td>\n",
       "      <td>7.0</td>\n",
       "      <td>50.0</td>\n",
       "      <td>30.28</td>\n",
       "      <td>1</td>\n",
       "    </tr>\n",
       "    <tr>\n",
       "      <th>12513</th>\n",
       "      <td>45.0</td>\n",
       "      <td>77.0</td>\n",
       "      <td>6.0</td>\n",
       "      <td>60.0</td>\n",
       "      <td>30.27</td>\n",
       "      <td>1</td>\n",
       "    </tr>\n",
       "  </tbody>\n",
       "</table>\n",
       "<p>12514 rows × 6 columns</p>\n",
       "</div>"
      ],
      "text/plain": [
       "       DRYBULBTEMPF  RelativeHumidity  WindSpeed  WindDirection  \\\n",
       "0              58.0              70.0       31.0          180.0   \n",
       "1              56.0              77.0       29.0          180.0   \n",
       "2              55.0              80.0       25.0          180.0   \n",
       "3              54.0              87.0       24.0          180.0   \n",
       "4              54.0              87.0       23.0          170.0   \n",
       "...             ...               ...        ...            ...   \n",
       "12509          47.0              71.0        6.0           60.0   \n",
       "12510          47.0              74.0        6.0           70.0   \n",
       "12511          47.0              74.0        7.0           50.0   \n",
       "12512          47.0              74.0        7.0           50.0   \n",
       "12513          45.0              77.0        6.0           60.0   \n",
       "\n",
       "       SeaLevelPressure  Cluster  \n",
       "0                 29.90        2  \n",
       "1                 29.90        2  \n",
       "2                 29.91        2  \n",
       "3                 29.92        2  \n",
       "4                 29.91        2  \n",
       "...                 ...      ...  \n",
       "12509             30.27        1  \n",
       "12510             30.28        1  \n",
       "12511             30.28        1  \n",
       "12512             30.28        1  \n",
       "12513             30.27        1  \n",
       "\n",
       "[12514 rows x 6 columns]"
      ]
     },
     "execution_count": 44,
     "metadata": {},
     "output_type": "execute_result"
    }
   ],
   "source": [
    "ds_test"
   ]
  },
  {
   "cell_type": "code",
   "execution_count": 45,
   "metadata": {},
   "outputs": [
    {
     "name": "stdout",
     "output_type": "stream",
     "text": [
      "[[4.0971994 1.9922675]\n",
      " [4.0971994 1.9922675]\n",
      " [4.0971994 1.9922675]\n",
      " ...\n",
      " [4.0971994 1.9922675]\n",
      " [4.0971994 1.9922675]\n",
      " [4.0971994 1.9922675]]\n",
      "[[6.2252674e+00 2.5775507e-03]\n",
      " [6.2252674e+00 2.5775507e-03]\n",
      " [6.2252674e+00 2.5775507e-03]\n",
      " ...\n",
      " [6.2252674e+00 2.5775507e-03]\n",
      " [6.2252674e+00 2.5775507e-03]\n",
      " [6.2252674e+00 2.5775507e-03]]\n",
      "[[8.306085   0.99742216]\n",
      " [8.306085   0.99742216]\n",
      " [8.306085   0.99742216]\n",
      " ...\n",
      " [8.306085   0.99742216]\n",
      " [8.306085   0.99742216]\n",
      " [8.306085   0.99742216]]\n"
     ]
    }
   ],
   "source": [
    "result=[]\n",
    "list_of_clusters=ds_test['Cluster'].unique()    \n",
    "for i in list_of_clusters:\n",
    "    folder_path2=original_path+ '/' + str(i)\n",
    "    os.chdir(folder_path2)\n",
    "\n",
    "\n",
    "    cluster_data=ds_test[ds_test['Cluster']==i]\n",
    "    cluster_data=cluster_data.drop(\"Cluster\",axis=1)# filter the data for one cluster\n",
    "    ds_pred = scaler.transform(cluster_data)\n",
    "    with open(\"model_.pkl\", 'rb') as model_file:\n",
    "        load_model = pickle.load(model_file)\n",
    "\n",
    "        result_i=load_model.predict(ds_pred)\n",
    "    result.append(result_i)\n",
    "    print(result_i)\n",
    "\n",
    "\n"
   ]
  },
  {
   "cell_type": "code",
   "execution_count": 46,
   "metadata": {},
   "outputs": [
    {
     "data": {
      "text/plain": [
       "[array([[4.0971994, 1.9922675],\n",
       "        [4.0971994, 1.9922675],\n",
       "        [4.0971994, 1.9922675],\n",
       "        ...,\n",
       "        [4.0971994, 1.9922675],\n",
       "        [4.0971994, 1.9922675],\n",
       "        [4.0971994, 1.9922675]], dtype=float32),\n",
       " array([[6.2252674e+00, 2.5775507e-03],\n",
       "        [6.2252674e+00, 2.5775507e-03],\n",
       "        [6.2252674e+00, 2.5775507e-03],\n",
       "        ...,\n",
       "        [6.2252674e+00, 2.5775507e-03],\n",
       "        [6.2252674e+00, 2.5775507e-03],\n",
       "        [6.2252674e+00, 2.5775507e-03]], dtype=float32),\n",
       " array([[8.306085  , 0.99742216],\n",
       "        [8.306085  , 0.99742216],\n",
       "        [8.306085  , 0.99742216],\n",
       "        ...,\n",
       "        [8.306085  , 0.99742216],\n",
       "        [8.306085  , 0.99742216],\n",
       "        [8.306085  , 0.99742216]], dtype=float32)]"
      ]
     },
     "execution_count": 46,
     "metadata": {},
     "output_type": "execute_result"
    }
   ],
   "source": [
    "result"
   ]
  },
  {
   "cell_type": "code",
   "execution_count": 47,
   "metadata": {},
   "outputs": [
    {
     "name": "stdout",
     "output_type": "stream",
     "text": [
      "C:\\Users\\Lakshita\\Desktop\\Visibility-main\\1/0\n"
     ]
    }
   ],
   "source": [
    "folder_path2=os.getcwd() + '/' + str(0)\n",
    "print(folder_path2)"
   ]
  },
  {
   "cell_type": "code",
   "execution_count": 48,
   "metadata": {},
   "outputs": [],
   "source": [
    "result1=[]\n",
    "for i in range(len(result)):\n",
    "    z=len(result[i])\n",
    "    for j in range(len(result[i])):\n",
    "        #result[i][j])\n",
    "        result1.append(result[i][j][0])\n"
   ]
  },
  {
   "cell_type": "code",
   "execution_count": null,
   "metadata": {},
   "outputs": [],
   "source": []
  },
  {
   "cell_type": "code",
   "execution_count": 49,
   "metadata": {},
   "outputs": [],
   "source": [
    "ds_test[\"Visibility\"]=result1"
   ]
  },
  {
   "cell_type": "code",
   "execution_count": 50,
   "metadata": {},
   "outputs": [],
   "source": [
    "ds_test=ds_test.drop(\"Cluster\",axis=1)"
   ]
  },
  {
   "cell_type": "code",
   "execution_count": 51,
   "metadata": {},
   "outputs": [
    {
     "data": {
      "text/html": [
       "<div>\n",
       "<style scoped>\n",
       "    .dataframe tbody tr th:only-of-type {\n",
       "        vertical-align: middle;\n",
       "    }\n",
       "\n",
       "    .dataframe tbody tr th {\n",
       "        vertical-align: top;\n",
       "    }\n",
       "\n",
       "    .dataframe thead th {\n",
       "        text-align: right;\n",
       "    }\n",
       "</style>\n",
       "<table border=\"1\" class=\"dataframe\">\n",
       "  <thead>\n",
       "    <tr style=\"text-align: right;\">\n",
       "      <th></th>\n",
       "      <th>DRYBULBTEMPF</th>\n",
       "      <th>RelativeHumidity</th>\n",
       "      <th>WindSpeed</th>\n",
       "      <th>WindDirection</th>\n",
       "      <th>SeaLevelPressure</th>\n",
       "      <th>Visibility</th>\n",
       "    </tr>\n",
       "  </thead>\n",
       "  <tbody>\n",
       "    <tr>\n",
       "      <th>0</th>\n",
       "      <td>58.0</td>\n",
       "      <td>70.0</td>\n",
       "      <td>31.0</td>\n",
       "      <td>180.0</td>\n",
       "      <td>29.90</td>\n",
       "      <td>4.097199</td>\n",
       "    </tr>\n",
       "    <tr>\n",
       "      <th>1</th>\n",
       "      <td>56.0</td>\n",
       "      <td>77.0</td>\n",
       "      <td>29.0</td>\n",
       "      <td>180.0</td>\n",
       "      <td>29.90</td>\n",
       "      <td>4.097199</td>\n",
       "    </tr>\n",
       "    <tr>\n",
       "      <th>2</th>\n",
       "      <td>55.0</td>\n",
       "      <td>80.0</td>\n",
       "      <td>25.0</td>\n",
       "      <td>180.0</td>\n",
       "      <td>29.91</td>\n",
       "      <td>4.097199</td>\n",
       "    </tr>\n",
       "    <tr>\n",
       "      <th>3</th>\n",
       "      <td>54.0</td>\n",
       "      <td>87.0</td>\n",
       "      <td>24.0</td>\n",
       "      <td>180.0</td>\n",
       "      <td>29.92</td>\n",
       "      <td>4.097199</td>\n",
       "    </tr>\n",
       "    <tr>\n",
       "      <th>4</th>\n",
       "      <td>54.0</td>\n",
       "      <td>87.0</td>\n",
       "      <td>23.0</td>\n",
       "      <td>170.0</td>\n",
       "      <td>29.91</td>\n",
       "      <td>4.097199</td>\n",
       "    </tr>\n",
       "    <tr>\n",
       "      <th>...</th>\n",
       "      <td>...</td>\n",
       "      <td>...</td>\n",
       "      <td>...</td>\n",
       "      <td>...</td>\n",
       "      <td>...</td>\n",
       "      <td>...</td>\n",
       "    </tr>\n",
       "    <tr>\n",
       "      <th>12509</th>\n",
       "      <td>47.0</td>\n",
       "      <td>71.0</td>\n",
       "      <td>6.0</td>\n",
       "      <td>60.0</td>\n",
       "      <td>30.27</td>\n",
       "      <td>8.306085</td>\n",
       "    </tr>\n",
       "    <tr>\n",
       "      <th>12510</th>\n",
       "      <td>47.0</td>\n",
       "      <td>74.0</td>\n",
       "      <td>6.0</td>\n",
       "      <td>70.0</td>\n",
       "      <td>30.28</td>\n",
       "      <td>8.306085</td>\n",
       "    </tr>\n",
       "    <tr>\n",
       "      <th>12511</th>\n",
       "      <td>47.0</td>\n",
       "      <td>74.0</td>\n",
       "      <td>7.0</td>\n",
       "      <td>50.0</td>\n",
       "      <td>30.28</td>\n",
       "      <td>8.306085</td>\n",
       "    </tr>\n",
       "    <tr>\n",
       "      <th>12512</th>\n",
       "      <td>47.0</td>\n",
       "      <td>74.0</td>\n",
       "      <td>7.0</td>\n",
       "      <td>50.0</td>\n",
       "      <td>30.28</td>\n",
       "      <td>8.306085</td>\n",
       "    </tr>\n",
       "    <tr>\n",
       "      <th>12513</th>\n",
       "      <td>45.0</td>\n",
       "      <td>77.0</td>\n",
       "      <td>6.0</td>\n",
       "      <td>60.0</td>\n",
       "      <td>30.27</td>\n",
       "      <td>8.306085</td>\n",
       "    </tr>\n",
       "  </tbody>\n",
       "</table>\n",
       "<p>12514 rows × 6 columns</p>\n",
       "</div>"
      ],
      "text/plain": [
       "       DRYBULBTEMPF  RelativeHumidity  WindSpeed  WindDirection  \\\n",
       "0              58.0              70.0       31.0          180.0   \n",
       "1              56.0              77.0       29.0          180.0   \n",
       "2              55.0              80.0       25.0          180.0   \n",
       "3              54.0              87.0       24.0          180.0   \n",
       "4              54.0              87.0       23.0          170.0   \n",
       "...             ...               ...        ...            ...   \n",
       "12509          47.0              71.0        6.0           60.0   \n",
       "12510          47.0              74.0        6.0           70.0   \n",
       "12511          47.0              74.0        7.0           50.0   \n",
       "12512          47.0              74.0        7.0           50.0   \n",
       "12513          45.0              77.0        6.0           60.0   \n",
       "\n",
       "       SeaLevelPressure  Visibility  \n",
       "0                 29.90    4.097199  \n",
       "1                 29.90    4.097199  \n",
       "2                 29.91    4.097199  \n",
       "3                 29.92    4.097199  \n",
       "4                 29.91    4.097199  \n",
       "...                 ...         ...  \n",
       "12509             30.27    8.306085  \n",
       "12510             30.28    8.306085  \n",
       "12511             30.28    8.306085  \n",
       "12512             30.28    8.306085  \n",
       "12513             30.27    8.306085  \n",
       "\n",
       "[12514 rows x 6 columns]"
      ]
     },
     "execution_count": 51,
     "metadata": {},
     "output_type": "execute_result"
    }
   ],
   "source": [
    "ds_test"
   ]
  },
  {
   "cell_type": "code",
   "execution_count": null,
   "metadata": {},
   "outputs": [],
   "source": []
  },
  {
   "cell_type": "code",
   "execution_count": null,
   "metadata": {},
   "outputs": [],
   "source": []
  }
 ],
 "metadata": {
  "colab": {
   "provenance": []
  },
  "gpuClass": "standard",
  "kernelspec": {
   "display_name": "Python 3 (ipykernel)",
   "language": "python",
   "name": "python3"
  },
  "language_info": {
   "codemirror_mode": {
    "name": "ipython",
    "version": 3
   },
   "file_extension": ".py",
   "mimetype": "text/x-python",
   "name": "python",
   "nbconvert_exporter": "python",
   "pygments_lexer": "ipython3",
   "version": "3.9.13"
  }
 },
 "nbformat": 4,
 "nbformat_minor": 1
}
